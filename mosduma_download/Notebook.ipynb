{
 "cells": [
  {
   "cell_type": "code",
   "execution_count": 50,
   "metadata": {},
   "outputs": [],
   "source": [
    "import json"
   ]
  },
  {
   "cell_type": "code",
   "execution_count": 51,
   "metadata": {},
   "outputs": [],
   "source": [
    "with open('../../../scrapy/tutorial/test.json', 'rb') as f:\n",
    "    dct = json.load(f)"
   ]
  },
  {
   "cell_type": "code",
   "execution_count": 34,
   "metadata": {},
   "outputs": [],
   "source": [
    "import os\n",
    "import re\n",
    "import math\n",
    "import pickle\n",
    "import requests\n",
    "import subprocess\n",
    "import pandas as pd\n",
    "from tqdm import tqdm\n",
    "from bs4 import BeautifulSoup\n",
    "from loguru import logger\n",
    "import librosa\n",
    "import numpy as np\n",
    "import glob\n",
    "from scipy.io import wavfile\n",
    "pd.options.display.width = 0"
   ]
  },
  {
   "cell_type": "markdown",
   "metadata": {
    "heading_collapsed": true
   },
   "source": [
    "## Video"
   ]
  },
  {
   "cell_type": "code",
   "execution_count": 102,
   "metadata": {
    "hidden": true
   },
   "outputs": [],
   "source": [
    "AUDIO_PARAMS = {\n",
    "    'sampling_rate':16000,\n",
    "    'channels':2\n",
    "}\n",
    "DEBUG = False\n",
    "MAX_ONE_SPEAKER_UTT_LEN = 10\n",
    "WINDOW_SEARCH_WIDTH = 5\n",
    "NAIVE_SPLIT_TOLERANCE = 0.2"
   ]
  },
  {
   "cell_type": "code",
   "execution_count": 103,
   "metadata": {
    "code_folding": [
     0
    ],
    "hidden": true
   },
   "outputs": [],
   "source": [
    "def process_one_video(video_url,\n",
    "                      temp_video_file,\n",
    "                      wav_path):\n",
    "    \"\"\"Download video, extract wav, delete video\n",
    "    \"\"\"\n",
    "    \n",
    "        \n",
    "    ffmpeg_params = \"ffmpeg -i '{}' -ac {} -ar {} -vn '{}'\".format(\n",
    "        temp_video_file,\n",
    "        AUDIO_PARAMS['channels'],\n",
    "        AUDIO_PARAMS['sampling_rate'],\n",
    "        wav_path)\n",
    "    \n",
    "    if DEBUG:\n",
    "        print(ffmpeg_params)\n",
    "    \n",
    "    if True:\n",
    "        download_progress(video_url,\n",
    "                          temp_video_file)    \n",
    "        \n",
    "    stdout = subprocess.Popen(ffmpeg_params,\n",
    "                              shell=True,\n",
    "                              stdout=subprocess.PIPE).stdout.read()\n",
    "    \n",
    "    msg = 'Decoding url {} stdout \\n {}'.format(video_url,\n",
    "                                                str(stdout))    \n",
    "    logger.info(msg)\n",
    "\n",
    "    if os.path.isfile(temp_video_file):\n",
    "        os.remove(temp_video_file)\n",
    "    else:\n",
    "        logger.warn('File {} not found for deletion'.format(temp_video_file))\n",
    "    return wav_path\n",
    "\n",
    "\n",
    "def download_progress(download_url,\n",
    "                      target_path,\n",
    "                      disable_tqdm=False):\n",
    "\n",
    "    r = requests.get(download_url,\n",
    "                     stream=True)\n",
    "\n",
    "    total_size = int(r.headers.get('content-length', 0))\n",
    "    block_size = 1024 * 1024\n",
    "    wrote = 0\n",
    "\n",
    "    if r.status_code == 200:\n",
    "        with open(target_path, 'wb') as f:\n",
    "            for data in tqdm(r.iter_content(block_size),\n",
    "                             total=math.ceil(total_size//block_size),\n",
    "                             unit='MB', unit_scale=True,\n",
    "                             disable=disable_tqdm):\n",
    "                wrote = wrote + len(data)\n",
    "                f.write(data)\n",
    "        if total_size != 0 and wrote != total_size:\n",
    "            print(\"ERROR, something went wrong\")                          \n",
    "    else:\n",
    "        msg = \"Url {} responded with non 200 status\".format(url)\n",
    "        logger.error(msg)\n",
    "        raise Exception(msg)"
   ]
  },
  {
   "cell_type": "code",
   "execution_count": 115,
   "metadata": {
    "hidden": true
   },
   "outputs": [],
   "source": [
    "url = 'https://duma.mos.ru/uploads/conference_video/44e5c26a827e4b64154a18fd516e838efe05f005.mp4'"
   ]
  },
  {
   "cell_type": "code",
   "execution_count": 116,
   "metadata": {
    "hidden": true
   },
   "outputs": [
    {
     "name": "stderr",
     "output_type": "stream",
     "text": [
      "177MB [00:16, 11.5MB/s]                          \n",
      "2019-07-26 08:26:45.229 | INFO     | __main__:process_one_video:27 - Decoding url https://duma.mos.ru/uploads/conference_video/44e5c26a827e4b64154a18fd516e838efe05f005.mp4 stdout \n",
      " b''\n"
     ]
    },
    {
     "data": {
      "text/plain": [
       "'test.wav'"
      ]
     },
     "execution_count": 116,
     "metadata": {},
     "output_type": "execute_result"
    }
   ],
   "source": [
    "process_one_video(url, 'test_video', 'test.wav')"
   ]
  },
  {
   "cell_type": "code",
   "execution_count": null,
   "metadata": {
    "hidden": true
   },
   "outputs": [],
   "source": []
  },
  {
   "cell_type": "code",
   "execution_count": 31,
   "metadata": {
    "hidden": true
   },
   "outputs": [],
   "source": [
    "videos = []\n",
    "for small_dict in dct:\n",
    "    if 'video' in small_dict:\n",
    "        videos.append(small_dict)"
   ]
  },
  {
   "cell_type": "code",
   "execution_count": 40,
   "metadata": {
    "hidden": true
   },
   "outputs": [],
   "source": [
    "video_df = pd.DataFrame(videos)\n",
    "video_df['hash'] = video_df['video'].apply(lambda x: x.split('/')[-1].split('.')[0])"
   ]
  },
  {
   "cell_type": "code",
   "execution_count": 44,
   "metadata": {
    "hidden": true
   },
   "outputs": [],
   "source": [
    "video_df['wav_path'] = 'mosduma_' + video_df['page'].astype(str) + '_' + \\\n",
    "                        video_df['block'].astype(str) + '_' + video_df['hash'] + '.wav'"
   ]
  },
  {
   "cell_type": "code",
   "execution_count": null,
   "metadata": {
    "hidden": true
   },
   "outputs": [],
   "source": [
    "video_df.to_feather('video_df.feather')"
   ]
  },
  {
   "cell_type": "code",
   "execution_count": 46,
   "metadata": {
    "hidden": true
   },
   "outputs": [
    {
     "data": {
      "text/html": [
       "<div>\n",
       "<style scoped>\n",
       "    .dataframe tbody tr th:only-of-type {\n",
       "        vertical-align: middle;\n",
       "    }\n",
       "\n",
       "    .dataframe tbody tr th {\n",
       "        vertical-align: top;\n",
       "    }\n",
       "\n",
       "    .dataframe thead th {\n",
       "        text-align: right;\n",
       "    }\n",
       "</style>\n",
       "<table border=\"1\" class=\"dataframe\">\n",
       "  <thead>\n",
       "    <tr style=\"text-align: right;\">\n",
       "      <th></th>\n",
       "      <th>block</th>\n",
       "      <th>page</th>\n",
       "      <th>video</th>\n",
       "      <th>hash</th>\n",
       "      <th>wav_path</th>\n",
       "    </tr>\n",
       "  </thead>\n",
       "  <tbody>\n",
       "    <tr>\n",
       "      <th>0</th>\n",
       "      <td>10</td>\n",
       "      <td>1</td>\n",
       "      <td>/uploads/conference_video/f7a480de76d23c5733e4...</td>\n",
       "      <td>f7a480de76d23c5733e428153d43aab2d86ea9f4</td>\n",
       "      <td>mosduma_1_10_f7a480de76d23c5733e428153d43aab2d...</td>\n",
       "    </tr>\n",
       "  </tbody>\n",
       "</table>\n",
       "</div>"
      ],
      "text/plain": [
       "   block  page                                              video  \\\n",
       "0     10     1  /uploads/conference_video/f7a480de76d23c5733e4...   \n",
       "\n",
       "                                       hash  \\\n",
       "0  f7a480de76d23c5733e428153d43aab2d86ea9f4   \n",
       "\n",
       "                                            wav_path  \n",
       "0  mosduma_1_10_f7a480de76d23c5733e428153d43aab2d...  "
      ]
     },
     "execution_count": 46,
     "metadata": {},
     "output_type": "execute_result"
    }
   ],
   "source": [
    "video_df.head(1)"
   ]
  },
  {
   "cell_type": "code",
   "execution_count": 37,
   "metadata": {
    "hidden": true
   },
   "outputs": [
    {
     "data": {
      "text/plain": [
       "'/uploads/conference_video/f7a480de76d23c5733e428153d43aab2d86ea9f4.mp4'"
      ]
     },
     "execution_count": 37,
     "metadata": {},
     "output_type": "execute_result"
    }
   ],
   "source": [
    "video_df['video'][0]"
   ]
  },
  {
   "cell_type": "code",
   "execution_count": null,
   "metadata": {
    "hidden": true
   },
   "outputs": [],
   "source": [
    "video_urls = list(video_df['video'].values)\n",
    "wav_file_paths = list(video_df['wav_path'].values)"
   ]
  },
  {
   "cell_type": "code",
   "execution_count": null,
   "metadata": {
    "hidden": true
   },
   "outputs": [],
   "source": [
    "for (video_url,\n",
    "     wav_file_path) in tqdm(zip(video_urls,\n",
    "                                wav_file_paths), total=len(video_urls)):\n",
    "    try:\n",
    "        process_one_video('https://duma.mos.ru/' + video_url,\n",
    "                          'temp_video/temp_video_file.mp4',\n",
    "                          'wav_folder/' + wav_file_path)\n",
    "    except Exception as e:\n",
    "        msg = 'Video {} caused error {}'.format(video_url,str(e))    \n",
    "        logger.error(msg)\n",
    "        \n",
    "msg = 'Done'    \n",
    "logger.info(msg)     "
   ]
  },
  {
   "cell_type": "code",
   "execution_count": 134,
   "metadata": {
    "hidden": true
   },
   "outputs": [],
   "source": [
    "video_df = pd.read_feather('video_df.feather')"
   ]
  },
  {
   "cell_type": "code",
   "execution_count": 135,
   "metadata": {
    "hidden": true
   },
   "outputs": [],
   "source": [
    "video_df_bin = pd.read_feather('video_df_bin.feather')"
   ]
  },
  {
   "cell_type": "code",
   "execution_count": 141,
   "metadata": {
    "hidden": true
   },
   "outputs": [
    {
     "data": {
      "text/plain": [
       "250"
      ]
     },
     "execution_count": 141,
     "metadata": {},
     "output_type": "execute_result"
    }
   ],
   "source": [
    "len(video_df)"
   ]
  },
  {
   "cell_type": "code",
   "execution_count": 142,
   "metadata": {
    "hidden": true
   },
   "outputs": [],
   "source": [
    "video_df = video_df[~video_df['hash'].isin(video_df_bin['hash'].values)]"
   ]
  },
  {
   "cell_type": "code",
   "execution_count": 143,
   "metadata": {
    "hidden": true
   },
   "outputs": [],
   "source": [
    "video_df_final = pd.concat([video_df, video_df_bin]).reset_index(drop=True)"
   ]
  },
  {
   "cell_type": "markdown",
   "metadata": {
    "heading_collapsed": true
   },
   "source": [
    "## Text"
   ]
  },
  {
   "cell_type": "code",
   "execution_count": 173,
   "metadata": {
    "hidden": true
   },
   "outputs": [],
   "source": [
    "text_dct = [i for i in dct if 'urls' in i]"
   ]
  },
  {
   "cell_type": "code",
   "execution_count": 174,
   "metadata": {
    "hidden": true
   },
   "outputs": [],
   "source": [
    "text_dicts = []\n",
    "for page in text_dct:\n",
    "    for i, url in enumerate(page['urls']):\n",
    "        text_dicts.append({'text_url':url,\n",
    "                           'page':page['page'],\n",
    "                           'block':i+1})"
   ]
  },
  {
   "cell_type": "code",
   "execution_count": 175,
   "metadata": {
    "hidden": true
   },
   "outputs": [
    {
     "data": {
      "text/html": [
       "<div>\n",
       "<style scoped>\n",
       "    .dataframe tbody tr th:only-of-type {\n",
       "        vertical-align: middle;\n",
       "    }\n",
       "\n",
       "    .dataframe tbody tr th {\n",
       "        vertical-align: top;\n",
       "    }\n",
       "\n",
       "    .dataframe thead th {\n",
       "        text-align: right;\n",
       "    }\n",
       "</style>\n",
       "<table border=\"1\" class=\"dataframe\">\n",
       "  <thead>\n",
       "    <tr style=\"text-align: right;\">\n",
       "      <th></th>\n",
       "      <th>block</th>\n",
       "      <th>page</th>\n",
       "      <th>text_url</th>\n",
       "    </tr>\n",
       "  </thead>\n",
       "  <tbody>\n",
       "    <tr>\n",
       "      <th>0</th>\n",
       "      <td>1</td>\n",
       "      <td>1</td>\n",
       "      <td>https://api.duma.mos.ru/isszd/fx/mitkfiledownl...</td>\n",
       "    </tr>\n",
       "    <tr>\n",
       "      <th>1</th>\n",
       "      <td>2</td>\n",
       "      <td>1</td>\n",
       "      <td>https://api.duma.mos.ru/isszd/fx/mitkfiledownl...</td>\n",
       "    </tr>\n",
       "    <tr>\n",
       "      <th>2</th>\n",
       "      <td>3</td>\n",
       "      <td>1</td>\n",
       "      <td>https://api.duma.mos.ru/isszd/fx/mitkfiledownl...</td>\n",
       "    </tr>\n",
       "  </tbody>\n",
       "</table>\n",
       "</div>"
      ],
      "text/plain": [
       "   block  page                                           text_url\n",
       "0      1     1  https://api.duma.mos.ru/isszd/fx/mitkfiledownl...\n",
       "1      2     1  https://api.duma.mos.ru/isszd/fx/mitkfiledownl...\n",
       "2      3     1  https://api.duma.mos.ru/isszd/fx/mitkfiledownl..."
      ]
     },
     "execution_count": 175,
     "metadata": {},
     "output_type": "execute_result"
    }
   ],
   "source": [
    "text_df = pd.DataFrame(text_dicts)\n",
    "text_df.head(3)"
   ]
  },
  {
   "cell_type": "code",
   "execution_count": 176,
   "metadata": {
    "hidden": true
   },
   "outputs": [
    {
     "data": {
      "text/html": [
       "<div>\n",
       "<style scoped>\n",
       "    .dataframe tbody tr th:only-of-type {\n",
       "        vertical-align: middle;\n",
       "    }\n",
       "\n",
       "    .dataframe tbody tr th {\n",
       "        vertical-align: top;\n",
       "    }\n",
       "\n",
       "    .dataframe thead th {\n",
       "        text-align: right;\n",
       "    }\n",
       "</style>\n",
       "<table border=\"1\" class=\"dataframe\">\n",
       "  <thead>\n",
       "    <tr style=\"text-align: right;\">\n",
       "      <th></th>\n",
       "      <th>block</th>\n",
       "      <th>page</th>\n",
       "      <th>video</th>\n",
       "      <th>hash</th>\n",
       "      <th>wav_path</th>\n",
       "    </tr>\n",
       "  </thead>\n",
       "  <tbody>\n",
       "    <tr>\n",
       "      <th>0</th>\n",
       "      <td>10</td>\n",
       "      <td>1</td>\n",
       "      <td>/uploads/conference_video/f7a480de76d23c5733e4...</td>\n",
       "      <td>f7a480de76d23c5733e428153d43aab2d86ea9f4</td>\n",
       "      <td>mosduma_1_10_f7a480de76d23c5733e428153d43aab2d...</td>\n",
       "    </tr>\n",
       "    <tr>\n",
       "      <th>1</th>\n",
       "      <td>6</td>\n",
       "      <td>1</td>\n",
       "      <td>/uploads/conference_video/97244770a1a14a942175...</td>\n",
       "      <td>97244770a1a14a9421754068f867c49444ecc2f0</td>\n",
       "      <td>mosduma_1_6_97244770a1a14a9421754068f867c49444...</td>\n",
       "    </tr>\n",
       "    <tr>\n",
       "      <th>2</th>\n",
       "      <td>9</td>\n",
       "      <td>1</td>\n",
       "      <td>/uploads/conference_video/c7fda223c218e2dff368...</td>\n",
       "      <td>c7fda223c218e2dff3688c8cef92857f13c6a78f</td>\n",
       "      <td>mosduma_1_9_c7fda223c218e2dff3688c8cef92857f13...</td>\n",
       "    </tr>\n",
       "  </tbody>\n",
       "</table>\n",
       "</div>"
      ],
      "text/plain": [
       "   block  page                                              video  \\\n",
       "0     10     1  /uploads/conference_video/f7a480de76d23c5733e4...   \n",
       "1      6     1  /uploads/conference_video/97244770a1a14a942175...   \n",
       "2      9     1  /uploads/conference_video/c7fda223c218e2dff368...   \n",
       "\n",
       "                                       hash  \\\n",
       "0  f7a480de76d23c5733e428153d43aab2d86ea9f4   \n",
       "1  97244770a1a14a9421754068f867c49444ecc2f0   \n",
       "2  c7fda223c218e2dff3688c8cef92857f13c6a78f   \n",
       "\n",
       "                                            wav_path  \n",
       "0  mosduma_1_10_f7a480de76d23c5733e428153d43aab2d...  \n",
       "1  mosduma_1_6_97244770a1a14a9421754068f867c49444...  \n",
       "2  mosduma_1_9_c7fda223c218e2dff3688c8cef92857f13...  "
      ]
     },
     "execution_count": 176,
     "metadata": {},
     "output_type": "execute_result"
    }
   ],
   "source": [
    "video_df = pd.read_feather('video_df.feather')\n",
    "video_df.head(3)"
   ]
  },
  {
   "cell_type": "code",
   "execution_count": 188,
   "metadata": {
    "hidden": true
   },
   "outputs": [],
   "source": [
    "text_video = pd.merge(video_df, text_df,  how='inner', left_on=['page','block'], right_on = ['page','block'])"
   ]
  },
  {
   "cell_type": "code",
   "execution_count": 189,
   "metadata": {
    "hidden": true
   },
   "outputs": [],
   "source": [
    "text_video['text_path'] = 'mosduma_' + text_video['page'].astype(str) + '_' + text_video['block'].astype(str) + '.rtf'"
   ]
  },
  {
   "cell_type": "code",
   "execution_count": 190,
   "metadata": {
    "hidden": true
   },
   "outputs": [
    {
     "data": {
      "text/plain": [
       "249"
      ]
     },
     "execution_count": 190,
     "metadata": {},
     "output_type": "execute_result"
    }
   ],
   "source": [
    "len(text_video)"
   ]
  },
  {
   "cell_type": "code",
   "execution_count": 191,
   "metadata": {
    "hidden": true
   },
   "outputs": [
    {
     "data": {
      "text/html": [
       "<div>\n",
       "<style scoped>\n",
       "    .dataframe tbody tr th:only-of-type {\n",
       "        vertical-align: middle;\n",
       "    }\n",
       "\n",
       "    .dataframe tbody tr th {\n",
       "        vertical-align: top;\n",
       "    }\n",
       "\n",
       "    .dataframe thead th {\n",
       "        text-align: right;\n",
       "    }\n",
       "</style>\n",
       "<table border=\"1\" class=\"dataframe\">\n",
       "  <thead>\n",
       "    <tr style=\"text-align: right;\">\n",
       "      <th></th>\n",
       "      <th>block</th>\n",
       "      <th>page</th>\n",
       "      <th>video</th>\n",
       "      <th>hash</th>\n",
       "      <th>wav_path</th>\n",
       "      <th>text_url</th>\n",
       "      <th>text_path</th>\n",
       "    </tr>\n",
       "  </thead>\n",
       "  <tbody>\n",
       "    <tr>\n",
       "      <th>0</th>\n",
       "      <td>10</td>\n",
       "      <td>1</td>\n",
       "      <td>/uploads/conference_video/f7a480de76d23c5733e4...</td>\n",
       "      <td>f7a480de76d23c5733e428153d43aab2d86ea9f4</td>\n",
       "      <td>mosduma_1_10_f7a480de76d23c5733e428153d43aab2d...</td>\n",
       "      <td>https://api.duma.mos.ru/isszd/fx/mitkfiledownl...</td>\n",
       "      <td>mosduma_1_10.rtf</td>\n",
       "    </tr>\n",
       "    <tr>\n",
       "      <th>1</th>\n",
       "      <td>6</td>\n",
       "      <td>1</td>\n",
       "      <td>/uploads/conference_video/97244770a1a14a942175...</td>\n",
       "      <td>97244770a1a14a9421754068f867c49444ecc2f0</td>\n",
       "      <td>mosduma_1_6_97244770a1a14a9421754068f867c49444...</td>\n",
       "      <td>https://api.duma.mos.ru/isszd/fx/mitkfiledownl...</td>\n",
       "      <td>mosduma_1_6.rtf</td>\n",
       "    </tr>\n",
       "    <tr>\n",
       "      <th>2</th>\n",
       "      <td>9</td>\n",
       "      <td>1</td>\n",
       "      <td>/uploads/conference_video/c7fda223c218e2dff368...</td>\n",
       "      <td>c7fda223c218e2dff3688c8cef92857f13c6a78f</td>\n",
       "      <td>mosduma_1_9_c7fda223c218e2dff3688c8cef92857f13...</td>\n",
       "      <td>https://api.duma.mos.ru/isszd/fx/mitkfiledownl...</td>\n",
       "      <td>mosduma_1_9.rtf</td>\n",
       "    </tr>\n",
       "  </tbody>\n",
       "</table>\n",
       "</div>"
      ],
      "text/plain": [
       "   block  page                                              video  \\\n",
       "0     10     1  /uploads/conference_video/f7a480de76d23c5733e4...   \n",
       "1      6     1  /uploads/conference_video/97244770a1a14a942175...   \n",
       "2      9     1  /uploads/conference_video/c7fda223c218e2dff368...   \n",
       "\n",
       "                                       hash  \\\n",
       "0  f7a480de76d23c5733e428153d43aab2d86ea9f4   \n",
       "1  97244770a1a14a9421754068f867c49444ecc2f0   \n",
       "2  c7fda223c218e2dff3688c8cef92857f13c6a78f   \n",
       "\n",
       "                                            wav_path  \\\n",
       "0  mosduma_1_10_f7a480de76d23c5733e428153d43aab2d...   \n",
       "1  mosduma_1_6_97244770a1a14a9421754068f867c49444...   \n",
       "2  mosduma_1_9_c7fda223c218e2dff3688c8cef92857f13...   \n",
       "\n",
       "                                            text_url         text_path  \n",
       "0  https://api.duma.mos.ru/isszd/fx/mitkfiledownl...  mosduma_1_10.rtf  \n",
       "1  https://api.duma.mos.ru/isszd/fx/mitkfiledownl...   mosduma_1_6.rtf  \n",
       "2  https://api.duma.mos.ru/isszd/fx/mitkfiledownl...   mosduma_1_9.rtf  "
      ]
     },
     "execution_count": 191,
     "metadata": {},
     "output_type": "execute_result"
    }
   ],
   "source": [
    "text_video.head(3)"
   ]
  },
  {
   "cell_type": "code",
   "execution_count": 344,
   "metadata": {
    "hidden": true
   },
   "outputs": [],
   "source": [
    "down_wavs = list(map(lambda x: x.split('/')[1], glob.glob('wav_folder/*.wav')))"
   ]
  },
  {
   "cell_type": "code",
   "execution_count": 350,
   "metadata": {
    "hidden": true
   },
   "outputs": [],
   "source": [
    "text_video = text_video[text_video['wav_path'].isin(down_wavs)]"
   ]
  },
  {
   "cell_type": "code",
   "execution_count": 356,
   "metadata": {
    "hidden": true
   },
   "outputs": [],
   "source": [
    "text_paths = text_video['text_path'].values"
   ]
  },
  {
   "cell_type": "code",
   "execution_count": 359,
   "metadata": {
    "hidden": true
   },
   "outputs": [],
   "source": [
    "text_video.reset_index(drop=True).to_feather('text_video.feather')"
   ]
  },
  {
   "cell_type": "code",
   "execution_count": 360,
   "metadata": {
    "hidden": true
   },
   "outputs": [
    {
     "data": {
      "text/html": [
       "<div>\n",
       "<style scoped>\n",
       "    .dataframe tbody tr th:only-of-type {\n",
       "        vertical-align: middle;\n",
       "    }\n",
       "\n",
       "    .dataframe tbody tr th {\n",
       "        vertical-align: top;\n",
       "    }\n",
       "\n",
       "    .dataframe thead th {\n",
       "        text-align: right;\n",
       "    }\n",
       "</style>\n",
       "<table border=\"1\" class=\"dataframe\">\n",
       "  <thead>\n",
       "    <tr style=\"text-align: right;\">\n",
       "      <th></th>\n",
       "      <th>block</th>\n",
       "      <th>page</th>\n",
       "      <th>video</th>\n",
       "      <th>hash</th>\n",
       "      <th>wav_path</th>\n",
       "      <th>text_url</th>\n",
       "      <th>text_path</th>\n",
       "    </tr>\n",
       "  </thead>\n",
       "  <tbody>\n",
       "    <tr>\n",
       "      <th>0</th>\n",
       "      <td>10</td>\n",
       "      <td>1</td>\n",
       "      <td>/uploads/conference_video/f7a480de76d23c5733e428153d43aab2d86ea9f4.mp4</td>\n",
       "      <td>f7a480de76d23c5733e428153d43aab2d86ea9f4</td>\n",
       "      <td>mosduma_1_10_f7a480de76d23c5733e428153d43aab2d86ea9f4.wav</td>\n",
       "      <td>https://api.duma.mos.ru/isszd/fx/mitkfiledownloadservlet?fileUUID=dbfilefs002080000mff3cev6pnt41h0&amp;time=1563989069343</td>\n",
       "      <td>mosduma_1_10.rtf</td>\n",
       "    </tr>\n",
       "    <tr>\n",
       "      <th>1</th>\n",
       "      <td>6</td>\n",
       "      <td>1</td>\n",
       "      <td>/uploads/conference_video/97244770a1a14a9421754068f867c49444ecc2f0.mp4</td>\n",
       "      <td>97244770a1a14a9421754068f867c49444ecc2f0</td>\n",
       "      <td>mosduma_1_6_97244770a1a14a9421754068f867c49444ecc2f0.wav</td>\n",
       "      <td>https://api.duma.mos.ru/isszd/fx/mitkfiledownloadservlet?fileUUID=dbfilefs002080000mie8g4lhrv48ng0&amp;time=1563989069343</td>\n",
       "      <td>mosduma_1_6.rtf</td>\n",
       "    </tr>\n",
       "    <tr>\n",
       "      <th>2</th>\n",
       "      <td>9</td>\n",
       "      <td>1</td>\n",
       "      <td>/uploads/conference_video/c7fda223c218e2dff3688c8cef92857f13c6a78f.mp4</td>\n",
       "      <td>c7fda223c218e2dff3688c8cef92857f13c6a78f</td>\n",
       "      <td>mosduma_1_9_c7fda223c218e2dff3688c8cef92857f13c6a78f.wav</td>\n",
       "      <td>https://api.duma.mos.ru/isszd/fx/mitkfiledownloadservlet?fileUUID=dbfilefs002080000mfqmp0jgco7d6qs&amp;time=1563989069343</td>\n",
       "      <td>mosduma_1_9.rtf</td>\n",
       "    </tr>\n",
       "  </tbody>\n",
       "</table>\n",
       "</div>"
      ],
      "text/plain": [
       "   block  page  \\\n",
       "0     10     1   \n",
       "1      6     1   \n",
       "2      9     1   \n",
       "\n",
       "                                                                    video  \\\n",
       "0  /uploads/conference_video/f7a480de76d23c5733e428153d43aab2d86ea9f4.mp4   \n",
       "1  /uploads/conference_video/97244770a1a14a9421754068f867c49444ecc2f0.mp4   \n",
       "2  /uploads/conference_video/c7fda223c218e2dff3688c8cef92857f13c6a78f.mp4   \n",
       "\n",
       "                                       hash  \\\n",
       "0  f7a480de76d23c5733e428153d43aab2d86ea9f4   \n",
       "1  97244770a1a14a9421754068f867c49444ecc2f0   \n",
       "2  c7fda223c218e2dff3688c8cef92857f13c6a78f   \n",
       "\n",
       "                                                    wav_path  \\\n",
       "0  mosduma_1_10_f7a480de76d23c5733e428153d43aab2d86ea9f4.wav   \n",
       "1   mosduma_1_6_97244770a1a14a9421754068f867c49444ecc2f0.wav   \n",
       "2   mosduma_1_9_c7fda223c218e2dff3688c8cef92857f13c6a78f.wav   \n",
       "\n",
       "                                                                                                                text_url  \\\n",
       "0  https://api.duma.mos.ru/isszd/fx/mitkfiledownloadservlet?fileUUID=dbfilefs002080000mff3cev6pnt41h0&time=1563989069343   \n",
       "1  https://api.duma.mos.ru/isszd/fx/mitkfiledownloadservlet?fileUUID=dbfilefs002080000mie8g4lhrv48ng0&time=1563989069343   \n",
       "2  https://api.duma.mos.ru/isszd/fx/mitkfiledownloadservlet?fileUUID=dbfilefs002080000mfqmp0jgco7d6qs&time=1563989069343   \n",
       "\n",
       "          text_path  \n",
       "0  mosduma_1_10.rtf  \n",
       "1   mosduma_1_6.rtf  \n",
       "2   mosduma_1_9.rtf  "
      ]
     },
     "execution_count": 360,
     "metadata": {},
     "output_type": "execute_result"
    }
   ],
   "source": [
    "text_video.head(3)"
   ]
  },
  {
   "cell_type": "markdown",
   "metadata": {},
   "source": [
    "## Speaker and speech"
   ]
  },
  {
   "cell_type": "code",
   "execution_count": 102,
   "metadata": {},
   "outputs": [
    {
     "name": "stderr",
     "output_type": "stream",
     "text": [
      "100%|██████████| 204/204 [00:00<00:00, 793.11it/s]\n"
     ]
    }
   ],
   "source": [
    "bad_txts = []\n",
    "txts = glob.glob('text_folder/txt/*txt')\n",
    "for txt in tqdm(txts):\n",
    "    with open(txt, 'r') as f:\n",
    "        file = f.readlines()\n",
    "        \n",
    "    #txt = txt.split('/')[-1]\n",
    "    \n",
    "    text = ''.join(file)\n",
    "    if 'Председатель Московской городской Думы' not in text:\n",
    "        bad_txts.append(txt)"
   ]
  },
  {
   "cell_type": "code",
   "execution_count": 101,
   "metadata": {},
   "outputs": [
    {
     "data": {
      "text/plain": [
       "'text_folder/txt/mosduma_11_6.txt'"
      ]
     },
     "execution_count": 101,
     "metadata": {},
     "output_type": "execute_result"
    }
   ],
   "source": [
    "txts[0]"
   ]
  },
  {
   "cell_type": "code",
   "execution_count": 93,
   "metadata": {},
   "outputs": [],
   "source": [
    "txts = glob.glob('text_folder/txt/*txt')\n",
    "with open(txts[0], 'r') as f:\n",
    "        file = f.readlines()"
   ]
  },
  {
   "cell_type": "code",
   "execution_count": 94,
   "metadata": {},
   "outputs": [],
   "source": [
    "text = ''.join(file)"
   ]
  },
  {
   "cell_type": "code",
   "execution_count": 95,
   "metadata": {},
   "outputs": [
    {
     "data": {
      "text/plain": [
       "' Платонов В.М. \\n\\n\\nУтреннее заседание № 1411\\n\\n\\n                       Звучит гимн города Москвы.\\n\\nМинутой молчания депутаты почтили память погибших в террористических актах в Волгограде и других регионах России.\\n\\n\\nI. СЛУШАЛИ: Проект постановления Московской городской Думы «О плане работы Московской городской Думы на I квартал 2014 года».\\n \\nПроект постановления № 08-13-9491/13 внесен комиссией по организации работы Думы 18 декабря 2013 года.\\n\\nРедактор проекта постановления: Метельский А.Н.\\n\\nПервое чтение.\\n\\nС докладом: Метельский А.Н.\\n\\nВопросов не поступило. \\n\\nВыступлений не состоялось.\\n\\nВ заключительном слове редактор проекта постановления – Метельский А.Н. – внес изменения в текст проекта документа. \\n\\nПо мотивам голосования о принятии проекта постановления в первом чтении выступлений не состоялось. \\n \\nГолосованием (за – 26, против – 0, воздержались – 0) проект постановления с изменениями редактора принимается в первом чтении.\\n\\nПо ведению: Петров А.В.\\n\\nПо мотивам голосования о принятии постановления выступлений не состоялось.\\n\\nПоименное голосование № 1 по вопросу о принятии постановления Московской городской Думы «О плане работы Московской городской Думы на I квартал 2014 года». \\n\\nРезультаты поименного голосования:\\n\\nза\\t\\t\\t\\t-  28\\nпротив\\t\\t\\t-    0\\nвоздержались\\t\\t-    0\\n\\n  Принято постановление № 1.\\n\\nПредседателем Думы оглашены результаты голосования.\\n\\n\\nII. СЛУШАЛИ: Проект постановления Московской городской Думы «О награждении Почетной грамотой Московской городской Думы Ребровой Татьяны Борисовны».\\n\\nПроект постановления № 08-13-9773/13 внесен Клычковым А.Е. 25 декабря 2013 года.\\n\\nПервое чтение.\\n\\nОт Председателя Московской городской Думы Платонова В.М. поступило предложение о принятии протокольного решения: \\n\\nРассмотреть проект постановления в первоочередном порядке.\\nВозражений не поступило.\\nПротокольное решение принято без голосования.\\n\\nС докладом: Клычков А.Е. \\n\\nВопросов не поступило. \\n\\nВыступлений не состоялось.\\n\\nРедактор проекта постановления – Клычков А.Е. – от заключительного слова отказался.\\n\\nПо мотивам голосования о принятии проекта постановления в первом чтении выступлений не состоялось. \\n \\nГолосованием (за – 26, против – 0, воздержались – 0) проект постановления принимается в первом чтении.\\n\\nПо мотивам голосования о принятии постановления выступлений не состоялось.\\n\\nПоименное голосование № 2 по вопросу о принятии постановления Московской городской Думы «О награждении Почетной грамотой Московской городской Думы Ребровой Татьяны Борисовны». \\n\\nРезультаты поименного голосования:\\n\\nза\\t\\t\\t\\t-  31\\nпротив\\t\\t\\t-    0\\nвоздержались\\t\\t-    0\\n\\n  Принято постановление № 2.\\n\\n\\nIII. СЛУШАЛИ: Проект постановления Московской городской Думы «О награждении Почетной грамотой Московской городской Думы государственного бюджетного учреждения культуры города Москвы «Дом культуры «Московские окна».\\n\\nПроект постановления № 08-13-9803/13 внесен Орловым С.В. 26 декабря 2013 года.\\n\\nПервое чтение.\\n\\nОт Председателя Московской городской Думы Платонова В.М. поступило предложение о принятии протокольного решения: \\n\\nРассмотреть проект постановления в первоочередном порядке.\\n\\nВозражений не поступило.\\nПротокольное решение принято без голосования.\\n\\nС докладом: Орлов С.В. \\n\\nВопросов не поступило.\\n\\n\\tВыступлений не состоялось.\\n\\nРедактор проекта постановления – Орлов С.В. – от заключительного слова отказался. \\n\\nПо мотивам голосования о принятии проекта постановления в первом чтении выступлений не состоялось.\\n\\n Голосованием (за – 29, против – 0, воздержались – 0) проект постановления принимается в первом чтении.\\n\\nПо мотивам голосования о принятии постановления выступлений не состоялось.\\n\\nПоименное голосование № 3 по вопросу о принятии постановления Московской городской Думы «О награждении Почетной грамотой Московской городской Думы государственного бюджетного учреждения культуры города Москвы «Дом культуры «Московские окна». \\n\\nРезультаты поименного голосования:\\n\\nза\\t\\t\\t\\t-  31\\nпротив\\t\\t\\t-    0\\nвоздержались\\t\\t-    0\\n\\n  Принято постановление № 3.\\n\\n\\n\\n\\n\\n\\nIV. СЛУШАЛИ: Разное:\\n\\n1. Информация Председателя Московской городской Думы Платонова В.М. о проекте повестки дня заседаний Московской городской Думы на 22 января 2014 года.\\n\\nДоведена до сведения депутатов.\\n\\n2. Информация Председателя Московской городской Думы Платонова В.М. о присутствии на заседании Думы Руководителя Аппарата Совета Федерации Федерального Собрания Российской Федерации Свинарева В.В., Руководителя Секретариата Руководителя Аппарата Совета Федерации Леньшина В.П. и помощника Председателя Комитета Совета Федерации по науке, образованию, культуре и информационной политике Журавлева М.И. для вручения памятных медалей «Совет Федерации. 20 лет» депутатам Московской городской Думы и Руководителю Аппарата Думы.\\n\\nДоведена до сведения депутатов.\\n\\n3. Заявление руководителя фракции «КОММУНИСТИЧЕСКАЯ ПАРТИЯ РОССИЙСКОЙ ФЕДЕРАЦИИ» Клычкова А.Е.\\n\\nДоведено до сведения депутатов.\\n\\n4. Предложение Председателя Московской городской Думы Платонова В.М. о принятии протокольного решения:\\n\\nСчитать уважительной причину отсутствия Антонова И.Е. на заседании Московской городской Думы 15 января 2014 года.  \\n\\nВозражений не поступило.\\nПротокольное решение принято без голосования.\\n\\n5. Переоглашение Председателем Московской городской Думы Платоновым В.М. номера постановления  Московской городской Думы «Об отзыве на проект федерального закона № 388177-6 «О внесении изменений в Кодекс Российской Федерации об административных правонарушениях», принятого на заседании Думы 25 декабря 2013 года, – постановление № 381. \\n\\nДоведено до сведения депутатов.\\n\\n6. Информация Председателя Московской городской Думы Платонова В.М. о результатах поименных голосований.\\n\\nДоведена до сведения депутатов.\\n\\n7. Предложение Председателя Московской городской Думы Платонова В.М. о принятии протокольного решения:\\n\\nНе проводить дневное заседание Московской городской Думы 15 января 2014 года.  \\n\\nВозражений не поступило.\\nПротокольное решение принято без голосования.\\n\\n\\nЗаседание Московской городской Думы закрыто.\\n\\n\\n\\nПредседатель Московской \\nгородской Думы\\t\\t\\t\\t\\t\\t                    В.М.Платонов \\n\\nРуководитель Аппарата \\nМосковской городской Думы\\t\\t\\t   \\t\\t\\tО.Г.Адабашьян\\n\\n\\n\\n\\nСтенограмма заседания прилагается.\\n\\n\\nПротокол вела: С.А.Чистова 8-495-650-57-71 \\n\\n\\n\\nПОВЕСТКА ДНЯ\\n\\nзаседаний Московской городской Думы\\nна 15 января 2014 года\\n\\n\\n\\nУтреннее заседание  № 1411\\n\\n\\n\\n1. 10.00 - 11.00. Проект постановления Московской городской Думы «О плане работы Московской городской Думы на I квартал 2014 года» (первое чтение).\\nДокладчик:\\nдепутат городской Думы Метельский А.Н.\\nПроект № 08-13-9491/13 внесен комиссией по организации работы Думы 18.12.2013.\\n\\n\\n2. 11.00 - 12.00. Проект постановления Московской городской Думы «О награждении Почетной грамотой Московской городской Думы Ребровой Татьяны Борисовны» (первое чтение).\\nДокладчик:\\nдепутат городской Думы Клычков А.Е.\\nПроект № 08-13-9773/13 внесен депутатом Клычковым А.Е. 25.12.2013.\\nВопрос будет рассмотрен в случае принятия МГД протокольного решения о рассмотрении проекта в первоочередном порядке.\\n\\n\\n3. 12.00 - 13.00. Проект постановления Московской городской Думы «О награждении Почетной грамотой Московской городской Думы государственного бюджетного учреждения культуры города Москвы «Дом культуры «Московские окна» (первое чтение).\\nДокладчик:\\nдепутат городской Думы Орлов С.В.\\nПроект № 08-13-9803/13 внесен депутатом Орловым С.В. 26.12.2013.\\nВопрос будет рассмотрен в случае принятия МГД протокольного решения о рассмотрении проекта в первоочередном порядке.\\n\\n\\n\\nДневное заседание  № 1412\\n\\n\\n4. 14.30 - 15.00. Разное.\\n- Информация о проекте повестки дня заседаний Московской городской Думы на 22 января 2014 года.\\nСообщение председательствующего на заседании городской Думы.\\n\\n\\n\\n\\n\\nПРЕДСЕДАТЕЛЬ МОСКОВСКОЙ \\nГОРОДСКОЙ ДУМЫ\\n\\nВ.М.ПЛАТОНОВ\\n\\n                                                                        Материалы к протоколу заседания\\n                                                                        Московской городской Думы\\n                                                                        от 15 января 2014 года                        № 1\\n                                                                        Зал заседаний                                       10.00    \\n\\n\\t\\n     \\n\\nС Т Е Н О Г Р А М М А\\n\\nзаседания Московской городской Думы\\n\\nот 15 января 2014 года\\n\\n\\nУтреннее заседание № 1411\\n\\n\\nПРЕДСЕДАТЕЛЬ ДУМЫ: \\t\\nУважаемые коллеги, 10 часов ровно. Сегодня среда, 15 января 2014 года.\\nЯ открываю утреннее, 1411-е заседание Московской городской Думы, первое после зимнего перерыва. \\nНачинается оно с исполнения гимна города Москвы.\\n\\n\\n(Звучит гимн города Москвы.)\\n\\n\\nПРЕДСЕДАТЕЛЬ ДУМЫ: \\t\\nСпасибо.\\nУважаемые коллеги, я прошу еще минуту вашего внимания. \\nС момента нашего последнего заседания в стране произошли страшные события: были совершены теракты в Волгограде, в других регионах России. \\nСо стороны Москвы все необходимое было сделано: приняты на лечение пострадавшие, направлены телеграммы с соболезнованиями.\\nЯ прошу вас почтить память погибших минутой молчания.\\n\\n\\n(Минута молчания.)\\n\\n\\nСпасибо, присаживайтесь, пожалуйста.\\nУважаемые коллеги,  будут ли возражения по  рассмотрению вопроса   № 1? \\nВозражений нет.\\n\\nМы рассматриваем вопрос № 1:\\n\"Проект постановления Московской городской Думы \"О плане работы Московской городской Думы на I квартал 2014 года\".\\nСлово для доклада предоставляется коллеге Метельскому.\\nАндрей Николаевич, пожалуйста, в Вашем распоряжении до 15 минут.\\n\\n\\nДепутат МЕТЕЛЬСКИЙ А.Н., изб. округ № 6: \\nУважаемые коллеги, вашему вниманию предлагается проект постановления Московской городской Думы \"О плане работы Московской городской Думы на I квартал 2014 года\".\\nНапомню, что в соответствии со статьей 35 Регламента Московской городской Думы план работы Думы составляется на квартал и вопрос о плане работы Думы должен быть рассмотрен на первом заседании Московской городской Думы.\\n\\tПроект постановления внесен комиссией по организации работы Думы, и в нем отражены все те вопросы, которые должны быть рассмотрены на заседаниях Московской городской Думы.\\n\\tСтруктура плана традиционна, поэтому я прошу поддержать данный проект постановления.\\n\\n\\nПРЕДСЕДАТЕЛЬ ДУМЫ: \\t\\nУважаемые коллеги, режим конференции, вопросы к докладчику. \\nВопросов нет.\\nПрисаживайтесь, пожалуйста.\\nЗапись на выступления. Желающих выступить нет.\\nЗаключительное слово предоставляется докладчику.\\n\\n\\nДепутат МЕТЕЛЬСКИЙ А.Н., изб. округ № 6: \\nУважаемые коллеги, в соответствии с 61-й статьей Регламента Московской городской Думы до принятия документа в первом чтении я могу внести в него изменения. Текст этих изменений находится у вас на руках, поэтому я прошу их не оглашать.\\nНо к изменениям имеется дополнение редактора: предлагается включить в план работы еще один документ – проект закона города Москвы \"О внесении изменений в Закон города Москвы от 6 июля 2005 года № 38 \"Избирательный кодекс города Москвы\" и  Закон города Москвы от 23 апреля 2003 года № 23 \"О Московской городской избирательной комиссии\".\\nПроект внесен фракцией \"ЕДИНАЯ РОССИЯ\". Профильная комиссия по данному вопросу – комиссия по государственному строительству и местному самоуправлению. Редактор проекта – депутат Портнова.\\nПрошу поддержать с изменениями редактора.\\nСпасибо.\\n\\n\\nПРЕДСЕДАТЕЛЬ ДУМЫ: \\t\\nСпасибо, присаживайтесь, пожалуйста.\\nУважаемые коллеги, есть ли желающие выступить по мотивам? Спасибо.\\nЭлектронную группу прошу приготовиться к голосованию.\\nНа голосование для принятия в первом чтении выносится проект постановления Московской городской Думы \"О плане работы Московской городской Думы на I квартал 2014 года\" с учетом тех изменений, которые внес автор в документ перед принятием его в первом чтении.\\nИдет голосование. Коллеги, прошу быть внимательными при голосовании.\\n\\nЗА  \\t\\t\\t\\t – 26\\nПРОТИВ\\t\\t\\t –   0\\nВОЗДЕРЖАЛИСЬ\\t  –  0\\nДокумент принимается в первом чтении.\\n\\nКоллеги, будут ли письменные и устные поправки? \\n\\tВыступления по мотивам? \\nДепутат Петров.\\n\\n\\nДепутат ПЕТРОВ А.В., городской изб. округ:\\nДа, конечно, этот документ надо принять.\\nТолько хотелось бы, чтобы редактор уточнил то, что он сказал дополнительно: вопрос вносится фракцией и так далее… внесение изменений в два закона. \\nА вот в документе, который у нас на руках,  есть изменения только в 38-й закон, а в закон об избирательной комиссии нет. Это первая страница внесенных изменений.\\nАндрей Николаевич, может быть, письменной или устной поправкой поправите? Здесь один закон. \\n\\n\\nДепутат МЕТЕЛЬСКИЙ А.Н., изб. округ № 6: \\nНет, коллеги, на самом деле вы не расслышали меня. \\nЯ еще раз зачитаю, может быть, вы просто не расслышали...\\n\\n\\nДепутат ПЕТРОВ А.В., городской изб. округ:\\nНет, расслышал...\\n\\n\\nДепутат МЕТЕЛЬСКИЙ А.Н., изб. округ № 6: \\n…что проект закона города Москвы о внесении изменений в два закона.\\n\\n\\nДепутат ПЕТРОВ А.В., городской изб. округ:\\nДа, а здесь написано – один.\\n\\n\\nДепутат МЕТЕЛЬСКИЙ А.Н., изб. округ № 6: \\nПроект закона один, а изменения в два закона.\\nПРЕДСЕДАТЕЛЬ ДУМЫ: \\nУважаемые коллеги, это было выступление по ведению, а не по мотивам. И я прошу быть внимательнее при работе с документами.\\nЕсть ли еще выступления по мотивам?\\nАнатолий Валентинович, Вы по мотивам теперь хотите выступить?\\n\\n\\nДепутат ПЕТРОВ А.В., городской изб. округ:\\nНет, нет....\\n\\n\\nПРЕДСЕДАТЕЛЬ ДУМЫ: \\nСпасибо большое.\\nЖелающих выступить по мотивам нет. \\nЯ прошу взять бюллетени для поименного голосования. Это будет поименное голосование № 1. Прошу указать фамилию депутата, инициалы. По вопросу о принятии постановления Московской городской Думы \"О плане работы Московской городской Думы на I квартал 2014 года\". Далее прошу определить свое отношение к документу: за, против, воздержались, поставить подпись и дату – сегодня 15 января 2014 года.\\n\\nУважаемые коллеги, я прошу вашего внимания и тишины в зале. Акустика прекрасная. \\n\\nКоллеги, мы закончили рассмотрение вопроса № 1, и нам сейчас нужно произвести подсчет. \\n\\nУважаемые коллеги, результаты поименного голосования № 1 по вопросу о принятии постановления Московской городской Думы \"О плане работы Московской городской Думы на I квартал 2014 года\":\\n\\nЗА                                – 28\\nПРОТИВ                     –   0\\nВОЗДЕРЖАЛИСЬ     –   0\\nПринято постановление Московской городской Думы № 1.\\n\\nВсе вопросы включены в повестку дня, находятся в плане, и мы их можем спокойно рассматривать.\\n\\n\\nКоллеги, будут ли возражения по рассмотрению в первоочередном порядке вопроса № 2?\\nВозражений нет. Протокольное решение принято. \\n\\n\\n\\n\\n\\n\\n\\n\\n\\n\\n\\n\\n\\n                                                                        Материалы к протоколу заседания\\n                                                                        Московской городской Думы\\n                                                                        от 15 января 2014 года                        № 1\\n                                                      Зал заседаний                                       10.00    \\n\\nПРЕДСЕДАТЕЛЬ ДУМЫ: \\nВ первоочередном порядке рассматриваем вопрос № 2:\\n\"Проект постановления Московской городской Думы \"О награждении  Почетной  грамотой  Московской  городской  Думы  Ребровой Татьяны Борисовны\".\\nКоллега Клычков, Вам слово.\\n\\n\\nДепутат КЛЫЧКОВ  А.Е., городской изб. округ: \\nСпасибо, Владимир Михайлович.\\nУважаемые коллеги, вашему вниманию предлагается проект постановления Московской городской Думы \"О награждении Почетной грамотой Московской городской Думы  Ребровой Татьяны Борисовны\".\\nРеброва Татьяна Борисовна занимается активной общественной работой. С 1983 года работает в должности руководителя Тимирязевского районного пионерского штаба \"Синегория\", входит в состав руководства Московской городской пионерской организации. На сегодняшний день Реброва – руководитель территориальной пионерской организации \"Тимирязевская пионерская республика\", действующей на территории Северного административного округа. Данная организация занимается военно-патриотическим воспитанием детей, организует огромное количество мероприятий. \\nСчитаем, что она достойна награждения Почетной грамотой Московской городской Думы за вклад в воспитание нашего подрастающего поколения.\\nСпасибо.\\nПРЕДСЕДАТЕЛЬ ДУМЫ: \\nСпасибо.\\nРежим конференции. Вопросы к докладчику.\\nВопросов нет. Присаживайтесь, пожалуйста. \\nЗапись на выступления. Желающих выступить нет. \\nЗаключительное слово предоставляется докладчику. Докладчик отказывается от заключительного слова. \\nКоллеги, есть ли желающие выступить по мотивам? Спасибо.\\n\\nЭлектронную группу прошу приготовиться к голосованию. На голосование для принятия в первом чтении выносится проект постановления Московской городской Думы \"О награждении Почетной грамотой Московской городской Думы Ребровой Татьяны Борисовны\". \\nИдет голосование. Коллеги, прошу быть внимательными при голосовании. \\n\\n\\tЗА\\t\\t\\t\\t–  26\\n\\tПРОТИВ\\t\\t\\t–    0\\n\\tВОЗДЕРЖАЛИСЬ\\t–    0\\nДокумент принимается в первом чтении.\\n\\nБудут ли письменные, устные поправки? Спасибо.\\nВыступления по мотивам? Спасибо.\\n\\nЯ прошу взять бюллетени для поименного голосования. Это будет поименное голосование № 2. Прошу указать фамилию депутата, инициалы. По вопросу о принятии постановления Московской городской Думы \"О награждении Почетной грамотой Московской городской Думы Ребровой Татьяны Борисовны\". Далее прошу определить свое отношение к данному документу: за, против, воздержались, поставить подпись и дату – сегодня 15 января 2014 года. \\n\\nУважаемые коллеги, мы закончили рассмотрение 2-го вопроса. \\nБудут ли возражения в первоочередном порядке рассмотреть 3-й вопрос? \\nВозражений нет. Протокольное решение принято. \\n\\n\\n\\n\\n\\n\\n\\n\\n\\n\\n\\n\\n\\n\\n\\n\\n\\n\\n\\n\\n\\n\\n                                                                        Материалы к протоколу заседания\\n                                                                        Московской городской Думы\\n                                                                        от 15 января 2014 года                        № 1\\n                                                      Зал заседаний                                       10.00    \\n\\nПРЕДСЕДАТЕЛЬ ДУМЫ: \\nВ первоочередном порядке рассматриваем вопрос № 3:\\n\"Проект постановления Московской городской Думы \"О награждении Почетной грамотой Московской городской Думы государственного бюджетного учреждения культуры города Москвы \"Дом культуры \"Московские окна\". \\nСлово для доклада предоставляется депутату Орлову. \\n\\n\\nДепутат ОРЛОВ С.В., изб. округ № 11: \\nУважаемый председательствующий, уважаемые коллеги – депутаты Московской городской Думы, уважаемые приглашенные, вашему вниманию представляется проект постановления Московской городской Думы \"О награждении Почетной грамотой Московской городской Думы государственного бюджетного учреждения культуры города Москвы \"Дом культуры \"Московские окна\". \\nДом культуры \"Московские окна\" находится в районе Орехово-Борисово Южное. Работает более 15 лет. В настоящее время там работает 62 клубных формирования для детей и взрослых, в которых занимаются более 900 человек: дети от 3 лет, подростки, молодежь, люди среднего и пожилого возраста. Только за прошлый год было проведено 160 культурно-массовых мероприятий, в том числе большое количество выступлений на окружных и городских площадках города Москвы. \\nПриоритетными направлениями в работе являются программы по культурному и патриотическому воспитанию, развитию семейных ценностей, поддержке талантливых и одаренных детей. \\n\\n\\nПРЕДСЕДАТЕЛЬ ДУМЫ: \\nСекундочку.\\n Коллеги, огромная просьба, докладчик за трибуной. На его месте мог бы быть каждый из вас. И представляете, вам мешают. \\nСпасибо за понимание. \\nПожалуйста. \\n\\n\\nДепутат ОРЛОВ С.В., изб. округ № 11: \\nДом культуры \"Московские окна\" известен не только в районе Орехово-Борисово Южное, но и во всем Южном административном округе города Москвы. Более того, на мой взгляд, это одно из заметных учреждений на уровне всего города. \\nПредлагается наградить Дом культуры \"Московские окна\" Почетной грамотой Московской городской Думы за заслуги перед городским сообществом. \\nУважаемые коллеги, я готов ответить на вопросы. \\n\\n\\nПРЕДСЕДАТЕЛЬ ДУМЫ: \\nСпасибо.\\nРежим конференции. Вопросы к докладчику. \\nВопросов к докладчику нет. Присаживайтесь, пожалуйста.\\nЗапись на выступления. Спасибо.\\nЗаключительное слово предоставляется докладчику. Отказывается.\\nКоллеги, выступления по мотивам. Спасибо.\\n\\nЭлектронную группу прошу приготовиться к голосованию. На голосование для принятия в первом чтении выносится проект постановления Московской городской Думы \"О награждении Почетной грамотой Московской городской Думы государственного бюджетного учреждения культуры города Москвы \"Дом культуры \"Московские окна\". \\nИдет голосование. Коллеги, прошу быть внимательными при голосовании. \\n\\n\\tЗА  \\t\\t\\t\\t– 29\\n\\tПРОТИВ\\t\\t\\t–   0\\n\\tВОЗДЕРЖАЛИСЬ\\t–   0\\nДокумент принимается в первом чтении. \\n\\nКоллеги, будут ли письменные, устные поправки к документу? Спасибо.\\nВыступления по мотивам? Спасибо.\\n\\nЯ прошу взять бюллетени для поименного голосования. Это будет поименное голосование № 3. Прошу указать фамилию депутата, инициалы. По вопросу о принятии постановления Московской городской Думы \"О награждении Почетной грамотой Московской городской Думы государственного бюджетного учреждения культуры города Москвы \"Дом культуры \"Московские окна\". Далее прошу определить свое отношение к данному документу: за, против, воздержались, поставить подпись и дату – сегодня 15 января 2014 года. \\n\\nКоллеги, мы закончили рассмотрение вопроса № 3. \\nНе будет возражений, если мы перейдем к вопросу № 4 \"Разное\"? Возражений нет. \\n\\n\\n\\n\\n\\n\\n\\n\\n\\n\\n\\n\\n\\n\\n\\n\\n\\n\\n\\n\\n\\n\\n\\n\\n\\n\\n\\n                                                                        Материалы к протоколу заседания\\n                                                                        Московской городской Думы\\n                                                                        от 15 января 2014 года                        № 1\\n                                                     Зал заседаний                                       10.00    \\n\\nПРЕДСЕДАТЕЛЬ ДУМЫ: \\nМы в \"Разном\". \\nУважаемые коллеги, у вас на руках проект повестки дня на 22 января. И в окончательной редакции мы можем рассмотреть в понедельник на комиссии по организации работы Думы.\\nУважаемые коллеги, сегодня у нас по окончании заседания Московской городской Думы вручение почетных грамот Московской городской Думы.\\nИ еще, уважаемые коллеги, у нас присутствуют представители Совета Федерации для вручения наград со стороны Совета Федерации, то есть памятных медалей депутатам Московской городской Думы. Это Свинарев Владимир Валентинович – Руководитель Аппарата Совета Федерации Федерального Собрания Российской Федерации, Журавлев Михаил Иванович – помощник Председателя Комитета Совета Федерации по науке, образованию, культуре и информационной политике и Леньшин Владимир Петрович – Руководитель Секретариата Руководителя Аппарата Совета Федерации Федерального Собрания Российской Федерации. Прошу этим руководствоваться.\\nМы в \"Разном\". Пожалуйста, депутат Клычков. \\n\\n\\nДепутат КЛЫЧКОВ А.Е., городской изб. округ:\\nВладимир Михайлович, у меня заявление фракции.\\n\\n\\n\\n\\nПРЕДСЕДАТЕЛЬ ДУМЫ: \\nПожалуйста, в установленном порядке в три минуты надо будет уложиться.\\n\\n\\nДепутат КЛЫЧКОВ А.Е., городской изб. округ:\\nМне можно начинать?\\n\\n\\nПРЕДСЕДАТЕЛЬ ДУМЫ: \\nДа, время уже пошло.\\n\\n\\nДепутат КЛЫЧКОВ А.Е., городской изб. округ:\\nУважаемые коллеги, сегодня мы хотим обратиться с заявлением фракции. Данное заявление связано с внесением вчера от фракции \"ЕДИНАЯ РОССИЯ\" поправок в избирательное законодательство. Учитывая, что 28 ноября было принято заявление общественного консультативного совета политических партий при Мосгордуме, которое отрицает подобного рода предложения по переходу на чисто мажоритарную систему, считаем необходимым сделать данное заявление.\\nМосква является субъектом Российской Федерации и городом федерального значения, отличается давними демократическими традициями. Жители Москвы на выборах неоднократно демонстрировали политический плюрализм, широту политических взглядов, однако до сих пор выборы депутатов Московской городской Думы в силу особенностей городского избирательного законодательства не позволяли обеспечить адекватный политическим предпочтениям избирателей состав городского парламента. \\nТак, в 1993 году, 1997 году и 2001 году выборы депутатов Московской городской Думы проводились по мажоритарной системе относительного большинства, и в результате ни в одной из этих кампаний не получали представительства \"КПРФ\" и другие левые партии, хотя уровень поддержки \"КПРФ\" в Москве в эти годы составлял до 15 процентов по итогам голосования на федеральных выборах, а многие кандидаты от \"КПРФ\" на этих выборах получали 18–25 процентов. \\nВ то же время средний уровень поддержки избранных депутатов составлял в 1993 году чуть более 24 процентов, в 1997 году – 32 процента, а в 2001 году – 44,7 процента. При этом в 1997 году и 2001 году подавляющее большинство избранных депутатов хотя и принадлежали формально к разным партиям, но отличались в первую очередь лояльностью в отношении исполнительной власти города Москвы. Это привело к тому, что Московская городская Дума не смогла стать полноправным партнером исполнительной власти и не обладала сколь-нибудь серьезным авторитетом в глазах москвичей.\\nВ 2005 году и в 2009 году выборы депутатов Московской городской Думы проводились по смешанной (мажоритарно-пропорциональной) избирательной системе с соотношением мажоритарной и пропорциональной частей соответственно 15 к 20 и 17 к 18. Однако в пропорциональной части из-за завышенного заградительного барьера (10 процентов – в 2005 году и 7 процентов – в 2009 году) представительство получили лишь три партии в 2005 году и всего две партии в 2009 году, и не получили представительство партии, за которые в сумме голосовали в 2005 году почти 20 процентов, а в 2009 году – 18 процентов избирателей. В мажоритарной части как в 2005 году, так и в 2009 году все мандаты получили представители одной партии. \\nВ результате \"ЕДИНАЯ РОССИЯ\", получив по официальным данным в 2005 году 47,3 процента, а в 2009 году – 66,3 процента голосов, имела в Московской городской Думе четвертого созыва 80 процентов мандатов, а в Думе пятого созыва она имеет 91 процент мандатов. И по уровню представительности и плюрализма Московская городская Дума занимает одно из последних мест среди субъектов Российской Федерации. \\nДаже занимавший до 2012 года пост Президента России Медведев вынужден был признать на заседании Государственного совета в 2010 году, что две фракции, которые действуют в Московской городской Думе, не могут отражать все многообразие политических пристрастий москвичей...\\n\\n\\n(Звенит колокольчик.)\\n\\n\\nПРЕДСЕДАТЕЛЬ ДУМЫ: \\nАндрей Евгеньевич, закончились три минуты, отведенные Регламентом  в \"Разном\".\\n\\n\\nДепутат КЛЫЧКОВ А.Е., городской изб. округ:\\nЯ минуту шел, Владимир Михайлович.\\n\\n\\nПРЕДСЕДАТЕЛЬ ДУМЫ: \\nНет, нет, нет. \\nЯ не очень сильно похож на обманщика?\\n\\n\\nДепутат КЛЫЧКОВ А.Е., городской изб. округ:\\nПрошу еще одну минуту.\\n\\nПРЕДСЕДАТЕЛЬ ДУМЫ: \\nВот с этого и начнем.\\nУважаемые коллеги, дадим возможность? Правда, жалко, потому что при рассмотрении мы второй раз все это услышим.\\nДве минуты. Нет возражений? \\nПожалуйста. Вы уложитесь?\\n\\n\\nДепутат КЛЫЧКОВ А.Е., городской изб. округ:\\nЯ думаю, что не стоит жалеть, так как будет дополнение. Я уложусь.\\nМы считаем, что 45 депутатов – это крайне мало для представительного органа города, где проживает более 7 миллионов избирателей. По числу избирателей, приходящихся на одного депутата (более 160 тысяч), Москва держит рекорд не только среди субъектов России, но, пожалуй, и в мировом масштабе. Поэтому мы выступаем за увеличение числа депутатов в Московской городской Думе с учетом расширения территории города.\\nСейчас (с принятием федерального закона) у московских законодателей появилась возможность вновь существенно изменить избирательную систему на выборах депутатов Московской городской Думы. \\nОднако мы категорически не согласны со звучащими идеями возврата к мажоритарной избирательной системе, которая уже в 90-х годах показала свою неадекватность. \\nМы также категорически возражаем против тех предложений, которые сейчас мы видим от \"ЕДИНОЙ РОССИИ\".\\nМы против уменьшения доли депутатов, избираемых по пропорциональной системе, и выступаем за сохранение прежней смешанной избирательной системы с соотношением мандатов 22 к 23, которое предусмотрено действующим законодательством, но со снижением заградительного барьера до 5 процентов и с отказом от методики распределения мандатов, искажающей пропорциональность. \\nМы считаем, что нужно стремиться к совершенствованию избирательной системы в интересах избирателей, а не менять ее в угоду тем, кто стремится сохраниться во власти.\\nМы приглашаем все политические партии в следующий вторник собраться в Московской городской Думе и дать оценку тем предложениям, которые сегодня поступили от \"ЕДИНОЙ РОССИИ\" и которые, конечно же, затронут жизнь каждого москвича.\\nСпасибо.\\n\\n\\nПРЕДСЕДАТЕЛЬ ДУМЫ: \\t\\nСпасибо.\\nПожалуйста, уважаемые коллеги, мы в \"Разном\".\\nКоллега Антонов просит…\\nДепутат Москвин-Тарханов.\\n\\n\\nДепутат МОСКВИН-ТАРХАНОВ М.И., городской изб. округ: \\nПо ведению.\\nМы не должны, выслушав проект некролога о Коммунистической фракции в Московской городской Думе, принять решение о рассмотрении вопроса в первоочередном порядке, как здесь написано по первому пункту?\\nПотому что здесь написано…\\n\\n\\nДепутат КЛЫЧКОВ А.Е., городской изб. округ:\\nВладимир Михайлович, можно сразу по ведению?\\nПРЕДСЕДАТЕЛЬ ДУМЫ: \\t\\nСекундочку.\\n\\n\\nДепутат МОСКВИН-ТАРХАНОВ М.И., городской изб. округ: \\nПодождите секундочку, я закончу, а потом Вы выступите по ведению.\\nНаписано: проект фракции \"ЕДИНАЯ РОССИЯ\", который должен быть рассмотрен в первоочередном порядке, если будет принято протокольное решение.\\nМы будем принимать это протокольное решение сейчас?\\n\\n\\nПРЕДСЕДАТЕЛЬ ДУМЫ: \\t\\nНу, нет. Это внесено как в первоочередном порядке, и в этом нет необходимости.\\n\\n\\nДепутат МОСКВИН-ТАРХАНОВ М.И., городской изб. округ: \\nПотому что здесь просто такой текст…\\n\\n\\nПРЕДСЕДАТЕЛЬ ДУМЫ: \\t\\nДепутат Клычков.\\n\\n\\nДепутат КЛЫЧКОВ А.Е., городской изб. округ:\\nВладимир Михайлович, Вы иногда очень рьяно защищаете Регламент, а иногда не очень рьяно.\\nЯ ведь не стал зачитывать некрологи депутата Москвина-Тарханова по перспективе избирательной…\\n\\n\\nПРЕДСЕДАТЕЛЬ ДУМЫ: \\t\\nА он так сказал?\\n\\n\\nГолос из зала:\\n(Говорит без микрофона.)\\n\\n\\nДепутат КЛЫЧКОВ А.Е., городской изб. округ:\\nПоэтому мы, может быть, как-то ограничим выступающих?\\n\\n\\nПРЕДСЕДАТЕЛЬ ДУМЫ: \\t\\nМихаил Иванович, я просто не расслышал, меня отвлекли, потому что шум в зале.\\nМихаил Иванович, не хорошо. \\n\\n\\nДепутат МОСКВИН-ТАРХАНОВ М.И., городской изб. округ: \\nЯ приношу свои извинения. \\nЭтот проект заявления не может рассматриваться как проект некролога, конечно же.\\n\\n\\n(Звенит колокольчик.)\\n\\nПРЕДСЕДАТЕЛЬ ДУМЫ: \\t\\nУважаемые коллеги, я вас очень прошу! Мы избраны москвичами работать, а не выяснять какие-то  личные отношения. Полномочия закончатся, и мы можем даже не встретиться с кем-нибудь – ничего страшного. \\nНо в зале и в работе парламента мы вместе, и давайте без каких-то взаимных упреков и оскорблений.\\nЯ прошу всех внимательно следить за тем текстом, в том числе и по дееспособности, и прочему, прочему, по оценкам, данным… без замечаний со стороны председательствующего.\\nКоллега Семенников.\\n\\n\\nДепутат СЕМЕННИКОВ А.Г., городской изб. округ: \\nПо другому вопросу можно?\\n\\n\\nПРЕДСЕДАТЕЛЬ ДУМЫ: \\t\\nДа, конечно.\\n\\n\\nДепутат СЕМЕННИКОВ А.Г., городской изб. округ: \\nУважаемые коллеги, хотел привлечь внимание к письму от Владимира Михайловича Платонова… Точнее, нет. Просто Председатель попросил его размножить и раздать. А письмо это из Главного управления Министерства юстиции по Москве.\\nТам речь идет о московских законах, в которых выявлены противоречия федеральным законам, и мы сообщали, что работаем над устранением этих противоречий. \\nМы запланировали 20 января на комиссии по законодательству послушать, как ведется работа. Поэтому, чтобы собрать информацию к заседанию комиссии, посмотрите, есть ли там проекты, которые вы ведете в Московской городской Думе.\\n\\n\\nГолос из зала:\\n(Говорит без микрофона.)\\n\\n\\nДепутат СЕМЕННИКОВ А.Г., городской изб. округ: \\nТолько у меня, да? Я тогда направлю такое письмо…\\n\\n\\nПРЕДСЕДАТЕЛЬ ДУМЫ: \\t\\nЭта информация озвучена на заседании, и, кроме этого, я прошу письменно направить эту информацию всем депутатам.\\n\\n\\nДепутат СЕМЕННИКОВ А.Г., городской изб. округ: \\nИ чтобы те депутаты, которые ведут соответствующие законопроекты, освежили в памяти, по каким причинам там затягивается.\\nСпасибо большое.\\n\\n\\nПРЕДСЕДАТЕЛЬ ДУМЫ: \\t\\nСпасибо.\\nУважаемые коллеги, коллега Антонов обратился с просьбой признать уважительной причину его отсутствия, так как он проходит медицинское обследование.\\nНет возражений? Нет.\\nКоллеги, меня просили переогласить результаты поименного голосования № 9 от 25 декабря по вопросу о принятии постановления Московской городской Думы \"Об отзыве на проект федерального закона № 388177-6 \"О внесении изменений в Кодекс Российской Федерации об административных правонарушениях\":\\n\\nЗА\\t\\t\\t\\t –  30\\nПРОТИВ\\t\\t\\t –    0\\nВОЗДЕРЖАЛИСЬ\\t –    0\\nПринято постановление Московской городской Думы № 381.\\n\\nЕсть ли еще объявления, замечания, предложения?\\n\\nУважаемые коллеги, результаты поименного голосования № 2 по вопросу о принятии постановления Московской городской Думы \"О награждении Почетной грамотой Московской городской Думы Ребровой Татьяны Борисовны\":\\n\\nЗА\\t\\t\\t\\t–  31\\nПРОТИВ\\t\\t\\t–    0\\nВОЗДЕРЖАЛИСЬ\\t–    0\\nПринято постановление Московской городской Думы № 2.\\n\\nРезультаты поименного голосования № 3 по вопросу о принятии постановления Московской городской Думы \"О награждении Почетной грамотой Московской городской Думы государственного бюджетного учреждения культуры города Москвы \"Дом культуры \"Московские окна\":\\n\\nЗА                              –  31\\nПРОТИВ                   –    0\\nВОЗДЕРЖАЛИСЬ    –   0\\nПринято постановление Московской городской Думы № 3.\\n\\nУважаемые коллеги, есть ли еще какие-то объявления, замечания, предложения?\\nНами планировался на сегодня еще один объемный вопрос, касающийся благоустройства, но его доработали, его обсудили на комиссиях, и он готов для рассмотрения на следующем заседании Думы. Поэтому сегодня небольшая повестка дня, и мы успели все рассмотреть. \\nКоллеги, не будет возражений, если мы примем протокольное решение не проводить дневное заседание? Возражений нет. Протокольное решение принято.\\nТак, пожалуйста, есть ли еще какие-то объявления, замечания, предложения?\\nТогда московское время – 10 часов 26 минут, и я закрываю утреннее, 1411-е заседание Московской городской Думы.\\nНо я прошу уважаемых коллег не расходиться. \\n\\n\\n Первый заместитель начальника Организационного\\n управления Аппарата Московской городской Думы                         И.А.Язева\\n\\n'"
      ]
     },
     "execution_count": 95,
     "metadata": {},
     "output_type": "execute_result"
    }
   ],
   "source": [
    "text.split('Председатель Московской городской Думы')[1]"
   ]
  },
  {
   "cell_type": "code",
   "execution_count": 98,
   "metadata": {},
   "outputs": [],
   "source": [
    "speaker = re.search('[А-ЯЁ]{1}[а-яё]+ [А-ЯЁ]\\.[А-ЯЁ]\\.', text.split('Председатель Московской городской Думы')[1])"
   ]
  },
  {
   "cell_type": "code",
   "execution_count": 99,
   "metadata": {},
   "outputs": [
    {
     "data": {
      "text/plain": [
       "<re.Match object; span=(1, 14), match='Платонов В.М.'>"
      ]
     },
     "execution_count": 99,
     "metadata": {},
     "output_type": "execute_result"
    }
   ],
   "source": [
    "speaker"
   ]
  },
  {
   "cell_type": "code",
   "execution_count": 59,
   "metadata": {},
   "outputs": [],
   "source": [
    "txts = ['text_folder/txt/mosduma_20_9.txt']"
   ]
  },
  {
   "cell_type": "code",
   "execution_count": 114,
   "metadata": {},
   "outputs": [
    {
     "name": "stderr",
     "output_type": "stream",
     "text": [
      "100%|██████████| 204/204 [00:00<00:00, 210.70it/s]\n"
     ]
    }
   ],
   "source": [
    "speeches = []\n",
    "txts = glob.glob('text_folder/txt/*txt')\n",
    "#txts = bad_txts\n",
    "for txt in tqdm(txts):\n",
    "    with open(txt, 'r') as f:\n",
    "        file = f.readlines()\n",
    "        \n",
    "    txt = txt.split('/')[-1]\n",
    "    \n",
    "    text = ''.join(file)\n",
    "    try:\n",
    "        chairman = re.search('[А-ЯЁ]{1}[а-яё]+ [А-ЯЁ]\\.[А-ЯЁ]\\.', text.split('Председатель Московской городской Думы')[1]).group().strip().upper()\n",
    "    except:\n",
    "        chairman = 'КИРИЛЛ'\n",
    "    \n",
    "    if 'С Т Е Н О Г Р А М М А' in text:\n",
    "        sten = text.split('С Т Е Н О Г Р А М М А')[1]\n",
    "        prev_speaker = None\n",
    "    elif 'СТЕНОГРАММА' in text:\n",
    "        sten = text.split('СТЕНОГРАММА')[1]\n",
    "        prev_speaker = None\n",
    "    elif 'ПРЕДСЕДАТЕЛЬ ДУМЫ:' in text:\n",
    "        sten = text.split('ПРЕДСЕДАТЕЛЬ ДУМЫ:')[1]\n",
    "        prev_speaker = 'ПРЕДСЕДАТЕЛЬ ДУМЫ'\n",
    "    else:\n",
    "        print('OSHIBKA  ', txt)\n",
    "    sten = re.sub('\\n{2,}', '***', sten)\n",
    "    paragraphs = sten.split('***')\n",
    "    \n",
    "    for paragraph in paragraphs:\n",
    "        speaker_speech = paragraph.split(':')\n",
    "        if 'ПРЕДСЕДАТЕЛЬСТВУЮЩИЙ НА ЗАСЕДАНИИ' in speaker_speech[0]:\n",
    "            extract_speaker = speaker_speech[0].replace('ПРЕДСЕДАТЕЛЬСТВУЮЩИЙ НА ЗАСЕДАНИИ', '')\n",
    "        else:\n",
    "            extract_speaker = speaker_speech[0]\n",
    "        speaker = re.search('[А-ЯЁ\\. ]{4,}', extract_speaker)\n",
    "        if (len(speaker_speech) > 1) & bool(speaker):\n",
    "            speaker = speaker.group().strip().upper()\n",
    "            if speaker == 'ПРЕДСЕДАТЕЛЬ ДУМЫ':\n",
    "                speaker = chairman\n",
    "            for sentence in (':').join(speaker_speech[1:]).split('\\n'):\n",
    "                if sentence.strip():\n",
    "                    speeches.append({'speaker':speaker,\n",
    "                                 'text':sentence,\n",
    "                                 'text_path':txt})\n",
    "            prev_speaker = speaker\n",
    "        else:\n",
    "            if prev_speaker:\n",
    "                for sentence in (':').join(speaker_speech).split('\\n'):\n",
    "                    sentence = sentence.strip()\n",
    "                    if sentence:\n",
    "                        if not ((sentence[0] == '(') & (sentence[-1] == ')')):\n",
    "                            speeches.append({'speaker':prev_speaker,\n",
    "                                         'text':sentence,\n",
    "                                         'text_path':txt})"
   ]
  },
  {
   "cell_type": "code",
   "execution_count": 115,
   "metadata": {},
   "outputs": [],
   "source": [
    "speeches_df = pd.DataFrame(speeches)"
   ]
  },
  {
   "cell_type": "markdown",
   "metadata": {},
   "source": [
    "## Merge everythong"
   ]
  },
  {
   "cell_type": "code",
   "execution_count": 117,
   "metadata": {},
   "outputs": [],
   "source": [
    "text_video = pd.read_feather('text_video.feather')"
   ]
  },
  {
   "cell_type": "code",
   "execution_count": 118,
   "metadata": {},
   "outputs": [],
   "source": [
    "gb = text_video.groupby(['text_path'])"
   ]
  },
  {
   "cell_type": "code",
   "execution_count": 119,
   "metadata": {},
   "outputs": [
    {
     "name": "stderr",
     "output_type": "stream",
     "text": [
      "100%|██████████| 161/161 [07:57<00:00,  4.63s/it]\n"
     ]
    }
   ],
   "source": [
    "# На один текстовый файл может быть несколько аудио - соединяем\n",
    "final_list = []\n",
    "for group in tqdm(gb):\n",
    "    arrays = []\n",
    "    for wav_path in group[1]['wav_path'].values:\n",
    "        sr, wav = wavfile.read('wav_folder/' + wav_path)\n",
    "        arrays.append(wav)\n",
    "    merged_wav = np.concatenate(arrays)\n",
    "    name = 'wav_folder/merged_wavs/' + group[0].replace('rtf', 'wav')\n",
    "    wavfile.write(name, 16000, merged_wav)\n",
    "    final_list.append({'wav_path':name,\n",
    "                       'text_path':group[0]})"
   ]
  },
  {
   "cell_type": "code",
   "execution_count": 120,
   "metadata": {},
   "outputs": [],
   "source": [
    "final_df = pd.DataFrame(final_list)"
   ]
  },
  {
   "cell_type": "code",
   "execution_count": 121,
   "metadata": {},
   "outputs": [
    {
     "data": {
      "text/html": [
       "<div>\n",
       "<style scoped>\n",
       "    .dataframe tbody tr th:only-of-type {\n",
       "        vertical-align: middle;\n",
       "    }\n",
       "\n",
       "    .dataframe tbody tr th {\n",
       "        vertical-align: top;\n",
       "    }\n",
       "\n",
       "    .dataframe thead th {\n",
       "        text-align: right;\n",
       "    }\n",
       "</style>\n",
       "<table border=\"1\" class=\"dataframe\">\n",
       "  <thead>\n",
       "    <tr style=\"text-align: right;\">\n",
       "      <th></th>\n",
       "      <th>text_path</th>\n",
       "      <th>wav_path</th>\n",
       "    </tr>\n",
       "  </thead>\n",
       "  <tbody>\n",
       "    <tr>\n",
       "      <th>0</th>\n",
       "      <td>mosduma_10_1.rtf</td>\n",
       "      <td>wav_folder/merged_wavs/mosduma_10_1.wav</td>\n",
       "    </tr>\n",
       "    <tr>\n",
       "      <th>1</th>\n",
       "      <td>mosduma_10_10.rtf</td>\n",
       "      <td>wav_folder/merged_wavs/mosduma_10_10.wav</td>\n",
       "    </tr>\n",
       "  </tbody>\n",
       "</table>\n",
       "</div>"
      ],
      "text/plain": [
       "           text_path                                  wav_path\n",
       "0   mosduma_10_1.rtf   wav_folder/merged_wavs/mosduma_10_1.wav\n",
       "1  mosduma_10_10.rtf  wav_folder/merged_wavs/mosduma_10_10.wav"
      ]
     },
     "execution_count": 121,
     "metadata": {},
     "output_type": "execute_result"
    }
   ],
   "source": [
    "final_df.head(2)"
   ]
  },
  {
   "cell_type": "code",
   "execution_count": 122,
   "metadata": {},
   "outputs": [],
   "source": [
    "speeches_df['text_path'] = speeches_df['text_path'].apply(lambda x: x.replace('txt', 'rtf'))"
   ]
  },
  {
   "cell_type": "code",
   "execution_count": 123,
   "metadata": {},
   "outputs": [],
   "source": [
    "text_wav_to_notmalize = pd.merge(speeches_df, final_df, on='text_path').drop_duplicates().reset_index(drop=True)"
   ]
  },
  {
   "cell_type": "code",
   "execution_count": 125,
   "metadata": {},
   "outputs": [],
   "source": [
    "text_wav_to_notmalize.to_feather('text_wav_to_normalize.feather')"
   ]
  },
  {
   "cell_type": "markdown",
   "metadata": {},
   "source": [
    "## Normalize in text-normalization"
   ]
  },
  {
   "cell_type": "code",
   "execution_count": 129,
   "metadata": {},
   "outputs": [
    {
     "data": {
      "text/html": [
       "<div>\n",
       "<style scoped>\n",
       "    .dataframe tbody tr th:only-of-type {\n",
       "        vertical-align: middle;\n",
       "    }\n",
       "\n",
       "    .dataframe tbody tr th {\n",
       "        vertical-align: top;\n",
       "    }\n",
       "\n",
       "    .dataframe thead th {\n",
       "        text-align: right;\n",
       "    }\n",
       "</style>\n",
       "<table border=\"1\" class=\"dataframe\">\n",
       "  <thead>\n",
       "    <tr style=\"text-align: right;\">\n",
       "      <th></th>\n",
       "      <th>speaker</th>\n",
       "      <th>text</th>\n",
       "      <th>text_path</th>\n",
       "      <th>wav_path</th>\n",
       "      <th>normalized</th>\n",
       "    </tr>\n",
       "  </thead>\n",
       "  <tbody>\n",
       "    <tr>\n",
       "      <th>0</th>\n",
       "      <td>ПЛАТОНОВ В.М.</td>\n",
       "      <td>Уважаемые коллеги, 10 часов ровно. Сегодня сре...</td>\n",
       "      <td>mosduma_11_6.rtf</td>\n",
       "      <td>wav_folder/merged_wavs/mosduma_11_6.wav</td>\n",
       "      <td>уважаемые коллеги десять часов ровно сегодня с...</td>\n",
       "    </tr>\n",
       "    <tr>\n",
       "      <th>1</th>\n",
       "      <td>ПЛАТОНОВ В.М.</td>\n",
       "      <td>Я открываю утреннее, 1411-е заседание Московск...</td>\n",
       "      <td>mosduma_11_6.rtf</td>\n",
       "      <td>wav_folder/merged_wavs/mosduma_11_6.wav</td>\n",
       "      <td>я открываю утреннее тысяча четыреста одиннадца...</td>\n",
       "    </tr>\n",
       "    <tr>\n",
       "      <th>2</th>\n",
       "      <td>ПЛАТОНОВ В.М.</td>\n",
       "      <td>Начинается оно с исполнения гимна города Москвы.</td>\n",
       "      <td>mosduma_11_6.rtf</td>\n",
       "      <td>wav_folder/merged_wavs/mosduma_11_6.wav</td>\n",
       "      <td>начинается оно с исполнения гимна города москвы</td>\n",
       "    </tr>\n",
       "    <tr>\n",
       "      <th>3</th>\n",
       "      <td>ПЛАТОНОВ В.М.</td>\n",
       "      <td>Спасибо.</td>\n",
       "      <td>mosduma_11_6.rtf</td>\n",
       "      <td>wav_folder/merged_wavs/mosduma_11_6.wav</td>\n",
       "      <td>спасибо</td>\n",
       "    </tr>\n",
       "    <tr>\n",
       "      <th>4</th>\n",
       "      <td>ПЛАТОНОВ В.М.</td>\n",
       "      <td>Уважаемые коллеги, я прошу еще минуту вашего в...</td>\n",
       "      <td>mosduma_11_6.rtf</td>\n",
       "      <td>wav_folder/merged_wavs/mosduma_11_6.wav</td>\n",
       "      <td>уважаемые коллеги я прошу еще минуту вашего вн...</td>\n",
       "    </tr>\n",
       "    <tr>\n",
       "      <th>5</th>\n",
       "      <td>ПЛАТОНОВ В.М.</td>\n",
       "      <td>С момента нашего последнего заседания в стране...</td>\n",
       "      <td>mosduma_11_6.rtf</td>\n",
       "      <td>wav_folder/merged_wavs/mosduma_11_6.wav</td>\n",
       "      <td>с момента нашего последнего заседания в стране...</td>\n",
       "    </tr>\n",
       "    <tr>\n",
       "      <th>6</th>\n",
       "      <td>ПЛАТОНОВ В.М.</td>\n",
       "      <td>Со стороны Москвы все необходимое было сделано...</td>\n",
       "      <td>mosduma_11_6.rtf</td>\n",
       "      <td>wav_folder/merged_wavs/mosduma_11_6.wav</td>\n",
       "      <td>со стороны москвы все необходимое было сделано...</td>\n",
       "    </tr>\n",
       "    <tr>\n",
       "      <th>7</th>\n",
       "      <td>ПЛАТОНОВ В.М.</td>\n",
       "      <td>Я прошу вас почтить память погибших минутой мо...</td>\n",
       "      <td>mosduma_11_6.rtf</td>\n",
       "      <td>wav_folder/merged_wavs/mosduma_11_6.wav</td>\n",
       "      <td>я прошу вас почтить память погибших минутой мо...</td>\n",
       "    </tr>\n",
       "    <tr>\n",
       "      <th>8</th>\n",
       "      <td>ПЛАТОНОВ В.М.</td>\n",
       "      <td>Спасибо, присаживайтесь, пожалуйста.</td>\n",
       "      <td>mosduma_11_6.rtf</td>\n",
       "      <td>wav_folder/merged_wavs/mosduma_11_6.wav</td>\n",
       "      <td>спасибо присаживайтесь пожалуйста</td>\n",
       "    </tr>\n",
       "    <tr>\n",
       "      <th>9</th>\n",
       "      <td>ПЛАТОНОВ В.М.</td>\n",
       "      <td>Уважаемые коллеги,  будут ли возражения по  ра...</td>\n",
       "      <td>mosduma_11_6.rtf</td>\n",
       "      <td>wav_folder/merged_wavs/mosduma_11_6.wav</td>\n",
       "      <td>уважаемые коллеги будут ли возражения по рассм...</td>\n",
       "    </tr>\n",
       "    <tr>\n",
       "      <th>10</th>\n",
       "      <td>ПЛАТОНОВ В.М.</td>\n",
       "      <td>Возражений нет.</td>\n",
       "      <td>mosduma_11_6.rtf</td>\n",
       "      <td>wav_folder/merged_wavs/mosduma_11_6.wav</td>\n",
       "      <td>возражений нет</td>\n",
       "    </tr>\n",
       "    <tr>\n",
       "      <th>11</th>\n",
       "      <td>ПЛАТОНОВ В.М.</td>\n",
       "      <td>Мы рассматриваем вопрос № 1:</td>\n",
       "      <td>mosduma_11_6.rtf</td>\n",
       "      <td>wav_folder/merged_wavs/mosduma_11_6.wav</td>\n",
       "      <td>мы рассматриваем вопрос номер один</td>\n",
       "    </tr>\n",
       "    <tr>\n",
       "      <th>12</th>\n",
       "      <td>ПЛАТОНОВ В.М.</td>\n",
       "      <td>\"Проект постановления Московской городской Дум...</td>\n",
       "      <td>mosduma_11_6.rtf</td>\n",
       "      <td>wav_folder/merged_wavs/mosduma_11_6.wav</td>\n",
       "      <td>проект постановления московской городской думы...</td>\n",
       "    </tr>\n",
       "    <tr>\n",
       "      <th>13</th>\n",
       "      <td>ПЛАТОНОВ В.М.</td>\n",
       "      <td>Слово для доклада предоставляется коллеге Мете...</td>\n",
       "      <td>mosduma_11_6.rtf</td>\n",
       "      <td>wav_folder/merged_wavs/mosduma_11_6.wav</td>\n",
       "      <td>слово для доклада предоставляется коллеге мете...</td>\n",
       "    </tr>\n",
       "    <tr>\n",
       "      <th>14</th>\n",
       "      <td>ПЛАТОНОВ В.М.</td>\n",
       "      <td>Андрей Николаевич, пожалуйста, в Вашем распоря...</td>\n",
       "      <td>mosduma_11_6.rtf</td>\n",
       "      <td>wav_folder/merged_wavs/mosduma_11_6.wav</td>\n",
       "      <td>андрей николаевич пожалуйста в вашем распоряже...</td>\n",
       "    </tr>\n",
       "    <tr>\n",
       "      <th>15</th>\n",
       "      <td>МЕТЕЛЬСКИЙ А.Н.</td>\n",
       "      <td>Уважаемые коллеги, вашему вниманию предлагаетс...</td>\n",
       "      <td>mosduma_11_6.rtf</td>\n",
       "      <td>wav_folder/merged_wavs/mosduma_11_6.wav</td>\n",
       "      <td>уважаемые коллеги вашему вниманию предлагается...</td>\n",
       "    </tr>\n",
       "    <tr>\n",
       "      <th>16</th>\n",
       "      <td>МЕТЕЛЬСКИЙ А.Н.</td>\n",
       "      <td>Напомню, что в соответствии со статьей 35 Регл...</td>\n",
       "      <td>mosduma_11_6.rtf</td>\n",
       "      <td>wav_folder/merged_wavs/mosduma_11_6.wav</td>\n",
       "      <td>напомню что в соответствии со статьей тридцать...</td>\n",
       "    </tr>\n",
       "    <tr>\n",
       "      <th>17</th>\n",
       "      <td>МЕТЕЛЬСКИЙ А.Н.</td>\n",
       "      <td>\\tПроект постановления внесен комиссией по орг...</td>\n",
       "      <td>mosduma_11_6.rtf</td>\n",
       "      <td>wav_folder/merged_wavs/mosduma_11_6.wav</td>\n",
       "      <td>проект постановления внесен комиссией по орган...</td>\n",
       "    </tr>\n",
       "    <tr>\n",
       "      <th>18</th>\n",
       "      <td>МЕТЕЛЬСКИЙ А.Н.</td>\n",
       "      <td>\\tСтруктура плана традиционна, поэтому я прошу...</td>\n",
       "      <td>mosduma_11_6.rtf</td>\n",
       "      <td>wav_folder/merged_wavs/mosduma_11_6.wav</td>\n",
       "      <td>структура плана традиционна поэтому я прошу по...</td>\n",
       "    </tr>\n",
       "    <tr>\n",
       "      <th>19</th>\n",
       "      <td>ПЛАТОНОВ В.М.</td>\n",
       "      <td>Уважаемые коллеги, режим конференции, вопросы ...</td>\n",
       "      <td>mosduma_11_6.rtf</td>\n",
       "      <td>wav_folder/merged_wavs/mosduma_11_6.wav</td>\n",
       "      <td>уважаемые коллеги режим конференции вопросы к ...</td>\n",
       "    </tr>\n",
       "    <tr>\n",
       "      <th>20</th>\n",
       "      <td>ПЛАТОНОВ В.М.</td>\n",
       "      <td>Вопросов нет.</td>\n",
       "      <td>mosduma_11_6.rtf</td>\n",
       "      <td>wav_folder/merged_wavs/mosduma_11_6.wav</td>\n",
       "      <td>вопросов нет</td>\n",
       "    </tr>\n",
       "    <tr>\n",
       "      <th>21</th>\n",
       "      <td>ПЛАТОНОВ В.М.</td>\n",
       "      <td>Присаживайтесь, пожалуйста.</td>\n",
       "      <td>mosduma_11_6.rtf</td>\n",
       "      <td>wav_folder/merged_wavs/mosduma_11_6.wav</td>\n",
       "      <td>присаживайтесь пожалуйста</td>\n",
       "    </tr>\n",
       "    <tr>\n",
       "      <th>22</th>\n",
       "      <td>ПЛАТОНОВ В.М.</td>\n",
       "      <td>Запись на выступления. Желающих выступить нет.</td>\n",
       "      <td>mosduma_11_6.rtf</td>\n",
       "      <td>wav_folder/merged_wavs/mosduma_11_6.wav</td>\n",
       "      <td>запись на выступления желающих выступить нет</td>\n",
       "    </tr>\n",
       "    <tr>\n",
       "      <th>23</th>\n",
       "      <td>ПЛАТОНОВ В.М.</td>\n",
       "      <td>Заключительное слово предоставляется докладчику.</td>\n",
       "      <td>mosduma_11_6.rtf</td>\n",
       "      <td>wav_folder/merged_wavs/mosduma_11_6.wav</td>\n",
       "      <td>заключительное слово предоставляется докладчику</td>\n",
       "    </tr>\n",
       "    <tr>\n",
       "      <th>24</th>\n",
       "      <td>МЕТЕЛЬСКИЙ А.Н.</td>\n",
       "      <td>Уважаемые коллеги, в соответствии с 61-й стать...</td>\n",
       "      <td>mosduma_11_6.rtf</td>\n",
       "      <td>wav_folder/merged_wavs/mosduma_11_6.wav</td>\n",
       "      <td>уважаемые коллеги в соответствии с шестьдесят ...</td>\n",
       "    </tr>\n",
       "    <tr>\n",
       "      <th>25</th>\n",
       "      <td>МЕТЕЛЬСКИЙ А.Н.</td>\n",
       "      <td>Но к изменениям имеется дополнение редактора: ...</td>\n",
       "      <td>mosduma_11_6.rtf</td>\n",
       "      <td>wav_folder/merged_wavs/mosduma_11_6.wav</td>\n",
       "      <td>но к изменениям имеется дополнение редактора п...</td>\n",
       "    </tr>\n",
       "    <tr>\n",
       "      <th>26</th>\n",
       "      <td>МЕТЕЛЬСКИЙ А.Н.</td>\n",
       "      <td>Проект внесен фракцией \"ЕДИНАЯ РОССИЯ\". Профил...</td>\n",
       "      <td>mosduma_11_6.rtf</td>\n",
       "      <td>wav_folder/merged_wavs/mosduma_11_6.wav</td>\n",
       "      <td>проект внесен фракцией единая россия профильна...</td>\n",
       "    </tr>\n",
       "    <tr>\n",
       "      <th>27</th>\n",
       "      <td>МЕТЕЛЬСКИЙ А.Н.</td>\n",
       "      <td>Прошу поддержать с изменениями редактора.</td>\n",
       "      <td>mosduma_11_6.rtf</td>\n",
       "      <td>wav_folder/merged_wavs/mosduma_11_6.wav</td>\n",
       "      <td>прошу поддержать с изменениями редактора</td>\n",
       "    </tr>\n",
       "    <tr>\n",
       "      <th>28</th>\n",
       "      <td>МЕТЕЛЬСКИЙ А.Н.</td>\n",
       "      <td>Спасибо.</td>\n",
       "      <td>mosduma_11_6.rtf</td>\n",
       "      <td>wav_folder/merged_wavs/mosduma_11_6.wav</td>\n",
       "      <td>спасибо</td>\n",
       "    </tr>\n",
       "    <tr>\n",
       "      <th>29</th>\n",
       "      <td>ПЛАТОНОВ В.М.</td>\n",
       "      <td>Уважаемые коллеги, есть ли желающие выступить ...</td>\n",
       "      <td>mosduma_11_6.rtf</td>\n",
       "      <td>wav_folder/merged_wavs/mosduma_11_6.wav</td>\n",
       "      <td>уважаемые коллеги есть ли желающие выступить п...</td>\n",
       "    </tr>\n",
       "    <tr>\n",
       "      <th>...</th>\n",
       "      <td>...</td>\n",
       "      <td>...</td>\n",
       "      <td>...</td>\n",
       "      <td>...</td>\n",
       "      <td>...</td>\n",
       "    </tr>\n",
       "    <tr>\n",
       "      <th>122153</th>\n",
       "      <td>ПЛАТОНОВ В.М.</td>\n",
       "      <td>ВОЗДЕРЖАЛИСЬ       –    0</td>\n",
       "      <td>mosduma_10_7.rtf</td>\n",
       "      <td>wav_folder/merged_wavs/mosduma_10_7.wav</td>\n",
       "      <td>воздержались ноль</td>\n",
       "    </tr>\n",
       "    <tr>\n",
       "      <th>122154</th>\n",
       "      <td>ПЛАТОНОВ В.М.</td>\n",
       "      <td>Решение о принятии закона города Москвы оформл...</td>\n",
       "      <td>mosduma_10_7.rtf</td>\n",
       "      <td>wav_folder/merged_wavs/mosduma_10_7.wav</td>\n",
       "      <td>решение о принятии закона города москвы оформл...</td>\n",
       "    </tr>\n",
       "    <tr>\n",
       "      <th>122155</th>\n",
       "      <td>ПЛАТОНОВ В.М.</td>\n",
       "      <td>Результаты поименного голосования № 3 по вопро...</td>\n",
       "      <td>mosduma_10_7.rtf</td>\n",
       "      <td>wav_folder/merged_wavs/mosduma_10_7.wav</td>\n",
       "      <td>результаты поименного голосования номер три по...</td>\n",
       "    </tr>\n",
       "    <tr>\n",
       "      <th>122156</th>\n",
       "      <td>ПЛАТОНОВ В.М.</td>\n",
       "      <td>ЗА                               –  30</td>\n",
       "      <td>mosduma_10_7.rtf</td>\n",
       "      <td>wav_folder/merged_wavs/mosduma_10_7.wav</td>\n",
       "      <td>за тридцать</td>\n",
       "    </tr>\n",
       "    <tr>\n",
       "      <th>122157</th>\n",
       "      <td>ПЛАТОНОВ В.М.</td>\n",
       "      <td>ПРОТИВ                    –    0</td>\n",
       "      <td>mosduma_10_7.rtf</td>\n",
       "      <td>wav_folder/merged_wavs/mosduma_10_7.wav</td>\n",
       "      <td>против ноль</td>\n",
       "    </tr>\n",
       "    <tr>\n",
       "      <th>122158</th>\n",
       "      <td>ПЛАТОНОВ В.М.</td>\n",
       "      <td>ВОЗДЕРЖАЛИСЬ     –    0</td>\n",
       "      <td>mosduma_10_7.rtf</td>\n",
       "      <td>wav_folder/merged_wavs/mosduma_10_7.wav</td>\n",
       "      <td>воздержались ноль</td>\n",
       "    </tr>\n",
       "    <tr>\n",
       "      <th>122159</th>\n",
       "      <td>ПЛАТОНОВ В.М.</td>\n",
       "      <td>Принято постановление Московской городской Дум...</td>\n",
       "      <td>mosduma_10_7.rtf</td>\n",
       "      <td>wav_folder/merged_wavs/mosduma_10_7.wav</td>\n",
       "      <td>принято постановление московской городской дум...</td>\n",
       "    </tr>\n",
       "    <tr>\n",
       "      <th>122160</th>\n",
       "      <td>ПЛАТОНОВ В.М.</td>\n",
       "      <td>Результаты поименного голосования № 4 по вопро...</td>\n",
       "      <td>mosduma_10_7.rtf</td>\n",
       "      <td>wav_folder/merged_wavs/mosduma_10_7.wav</td>\n",
       "      <td>результаты поименного голосования номер четыре...</td>\n",
       "    </tr>\n",
       "    <tr>\n",
       "      <th>122161</th>\n",
       "      <td>ПЛАТОНОВ В.М.</td>\n",
       "      <td>ЗА\\t\\t\\t\\t– 30</td>\n",
       "      <td>mosduma_10_7.rtf</td>\n",
       "      <td>wav_folder/merged_wavs/mosduma_10_7.wav</td>\n",
       "      <td>за тридцать</td>\n",
       "    </tr>\n",
       "    <tr>\n",
       "      <th>122162</th>\n",
       "      <td>ПЛАТОНОВ В.М.</td>\n",
       "      <td>ПРОТИВ\\t\\t\\t–   0</td>\n",
       "      <td>mosduma_10_7.rtf</td>\n",
       "      <td>wav_folder/merged_wavs/mosduma_10_7.wav</td>\n",
       "      <td>против ноль</td>\n",
       "    </tr>\n",
       "    <tr>\n",
       "      <th>122163</th>\n",
       "      <td>ПЛАТОНОВ В.М.</td>\n",
       "      <td>ВОЗДЕРЖАЛИСЬ\\t–   0</td>\n",
       "      <td>mosduma_10_7.rtf</td>\n",
       "      <td>wav_folder/merged_wavs/mosduma_10_7.wav</td>\n",
       "      <td>воздержались ноль</td>\n",
       "    </tr>\n",
       "    <tr>\n",
       "      <th>122164</th>\n",
       "      <td>ПЛАТОНОВ В.М.</td>\n",
       "      <td>Принято постановление Московской городской Дум...</td>\n",
       "      <td>mosduma_10_7.rtf</td>\n",
       "      <td>wav_folder/merged_wavs/mosduma_10_7.wav</td>\n",
       "      <td>принято постановление московской городской дум...</td>\n",
       "    </tr>\n",
       "    <tr>\n",
       "      <th>122165</th>\n",
       "      <td>ПЛАТОНОВ В.М.</td>\n",
       "      <td>Так, депутат Петров. Анатолий Валентинович, у ...</td>\n",
       "      <td>mosduma_10_7.rtf</td>\n",
       "      <td>wav_folder/merged_wavs/mosduma_10_7.wav</td>\n",
       "      <td>так депутат петров анатолий валентинович у вас...</td>\n",
       "    </tr>\n",
       "    <tr>\n",
       "      <th>122166</th>\n",
       "      <td>ПЕТРОВ А.В.</td>\n",
       "      <td>\\tПрошу принять протокольное решение о поручен...</td>\n",
       "      <td>mosduma_10_7.rtf</td>\n",
       "      <td>wav_folder/merged_wavs/mosduma_10_7.wav</td>\n",
       "      <td>прошу принять протокольное решение о поручении...</td>\n",
       "    </tr>\n",
       "    <tr>\n",
       "      <th>122167</th>\n",
       "      <td>ПЛАТОНОВ В.М.</td>\n",
       "      <td>\\tКоллеги, нет возражений? Возражений нет. Про...</td>\n",
       "      <td>mosduma_10_7.rtf</td>\n",
       "      <td>wav_folder/merged_wavs/mosduma_10_7.wav</td>\n",
       "      <td>коллеги нет возражений возражений нет протокол...</td>\n",
       "    </tr>\n",
       "    <tr>\n",
       "      <th>122168</th>\n",
       "      <td>ПЕТРОВ А.В.</td>\n",
       "      <td>\\tСпасибо.</td>\n",
       "      <td>mosduma_10_7.rtf</td>\n",
       "      <td>wav_folder/merged_wavs/mosduma_10_7.wav</td>\n",
       "      <td>спасибо</td>\n",
       "    </tr>\n",
       "    <tr>\n",
       "      <th>122169</th>\n",
       "      <td>ПЛАТОНОВ В.М.</td>\n",
       "      <td>\\tКоллеги, есть ли еще объявления, замечания, ...</td>\n",
       "      <td>mosduma_10_7.rtf</td>\n",
       "      <td>wav_folder/merged_wavs/mosduma_10_7.wav</td>\n",
       "      <td>коллеги есть ли еще объявления замечания предл...</td>\n",
       "    </tr>\n",
       "    <tr>\n",
       "      <th>122170</th>\n",
       "      <td>ПЛАТОНОВ В.М.</td>\n",
       "      <td>\\tУважаемые коллеги, 10 часов 30 минут. Я закр...</td>\n",
       "      <td>mosduma_10_7.rtf</td>\n",
       "      <td>wav_folder/merged_wavs/mosduma_10_7.wav</td>\n",
       "      <td>уважаемые коллеги десять часов тридцать минут ...</td>\n",
       "    </tr>\n",
       "    <tr>\n",
       "      <th>122171</th>\n",
       "      <td>ПЛАТОНОВ В.М.</td>\n",
       "      <td>Начальник Организационного управления</td>\n",
       "      <td>mosduma_10_7.rtf</td>\n",
       "      <td>wav_folder/merged_wavs/mosduma_10_7.wav</td>\n",
       "      <td>начальник организационного управления</td>\n",
       "    </tr>\n",
       "    <tr>\n",
       "      <th>122172</th>\n",
       "      <td>ПЛАТОНОВ В.М.</td>\n",
       "      <td>Аппарата Московской городской Думы\\t\\t\\t   Р.И...</td>\n",
       "      <td>mosduma_10_7.rtf</td>\n",
       "      <td>wav_folder/merged_wavs/mosduma_10_7.wav</td>\n",
       "      <td>аппарата московской городской думы р и князятова</td>\n",
       "    </tr>\n",
       "    <tr>\n",
       "      <th>122173</th>\n",
       "      <td>ПРЕДСЕДАТЕЛЬ ДУМЫ</td>\n",
       "      <td>Уважаемые коллеги, сегодня среда, 24 июня 2015...</td>\n",
       "      <td>mosduma_7_5.rtf</td>\n",
       "      <td>wav_folder/merged_wavs/mosduma_7_5.wav</td>\n",
       "      <td>уважаемые коллеги сегодня среда двадцать четвё...</td>\n",
       "    </tr>\n",
       "    <tr>\n",
       "      <th>122174</th>\n",
       "      <td>ПРЕДСЕДАТЕЛЬ ДУМЫ</td>\n",
       "      <td>Я открываю заседание № 1457.</td>\n",
       "      <td>mosduma_7_5.rtf</td>\n",
       "      <td>wav_folder/merged_wavs/mosduma_7_5.wav</td>\n",
       "      <td>я открываю заседание номер тысяча четыреста пя...</td>\n",
       "    </tr>\n",
       "    <tr>\n",
       "      <th>122175</th>\n",
       "      <td>ПРЕДСЕДАТЕЛЬ ДУМЫ</td>\n",
       "      <td>Не будет ли возражений по рассмотрению вопроса...</td>\n",
       "      <td>mosduma_7_5.rtf</td>\n",
       "      <td>wav_folder/merged_wavs/mosduma_7_5.wav</td>\n",
       "      <td>не будет ли возражений по рассмотрению вопроса...</td>\n",
       "    </tr>\n",
       "    <tr>\n",
       "      <th>122176</th>\n",
       "      <td>ПРЕДСЕДАТЕЛЬ ДУМЫ</td>\n",
       "      <td>\"Проект постановления Московской городской Дум...</td>\n",
       "      <td>mosduma_7_5.rtf</td>\n",
       "      <td>wav_folder/merged_wavs/mosduma_7_5.wav</td>\n",
       "      <td>проект постановления московской городской думы...</td>\n",
       "    </tr>\n",
       "    <tr>\n",
       "      <th>122177</th>\n",
       "      <td>ПРЕДСЕДАТЕЛЬ ДУМЫ</td>\n",
       "      <td>Спасибо, возражений нет.</td>\n",
       "      <td>mosduma_7_5.rtf</td>\n",
       "      <td>wav_folder/merged_wavs/mosduma_7_5.wav</td>\n",
       "      <td>спасибо возражений нет</td>\n",
       "    </tr>\n",
       "    <tr>\n",
       "      <th>122178</th>\n",
       "      <td>ПРЕДСЕДАТЕЛЬ ДУМЫ</td>\n",
       "      <td>Слово для доклада предоставляется редактору пр...</td>\n",
       "      <td>mosduma_7_5.rtf</td>\n",
       "      <td>wav_folder/merged_wavs/mosduma_7_5.wav</td>\n",
       "      <td>слово для доклада предоставляется редактору пр...</td>\n",
       "    </tr>\n",
       "    <tr>\n",
       "      <th>122179</th>\n",
       "      <td>ПРЕДСЕДАТЕЛЬ ДУМЫ</td>\n",
       "      <td>Андрей Николаевич, пожалуйста.</td>\n",
       "      <td>mosduma_7_5.rtf</td>\n",
       "      <td>wav_folder/merged_wavs/mosduma_7_5.wav</td>\n",
       "      <td>андрей николаевич пожалуйста</td>\n",
       "    </tr>\n",
       "    <tr>\n",
       "      <th>122180</th>\n",
       "      <td>МЕТЕЛЬСКИЙ А.Н.</td>\n",
       "      <td>Уважаемые коллеги, вашему вниманию предлагаетс...</td>\n",
       "      <td>mosduma_7_5.rtf</td>\n",
       "      <td>wav_folder/merged_wavs/mosduma_7_5.wav</td>\n",
       "      <td>уважаемые коллеги вашему вниманию предлагается...</td>\n",
       "    </tr>\n",
       "    <tr>\n",
       "      <th>122181</th>\n",
       "      <td>МЕТЕЛЬСКИЙ А.Н.</td>\n",
       "      <td>Данное постановление внесено комиссией по орга...</td>\n",
       "      <td>mosduma_7_5.rtf</td>\n",
       "      <td>wav_folder/merged_wavs/mosduma_7_5.wav</td>\n",
       "      <td>данное постановление внесено комиссией по орга...</td>\n",
       "    </tr>\n",
       "    <tr>\n",
       "      <th>122182</th>\n",
       "      <td>МЕТЕЛЬСКИЙ А.Н.</td>\n",
       "      <td>Спасибо.</td>\n",
       "      <td>mosduma_7_5.rtf</td>\n",
       "      <td>wav_folder/merged_wavs/mosduma_7_5.wav</td>\n",
       "      <td>спасибо</td>\n",
       "    </tr>\n",
       "  </tbody>\n",
       "</table>\n",
       "<p>122183 rows × 5 columns</p>\n",
       "</div>"
      ],
      "text/plain": [
       "                  speaker                                               text  \\\n",
       "0           ПЛАТОНОВ В.М.  Уважаемые коллеги, 10 часов ровно. Сегодня сре...   \n",
       "1           ПЛАТОНОВ В.М.  Я открываю утреннее, 1411-е заседание Московск...   \n",
       "2           ПЛАТОНОВ В.М.   Начинается оно с исполнения гимна города Москвы.   \n",
       "3           ПЛАТОНОВ В.М.                                           Спасибо.   \n",
       "4           ПЛАТОНОВ В.М.  Уважаемые коллеги, я прошу еще минуту вашего в...   \n",
       "5           ПЛАТОНОВ В.М.  С момента нашего последнего заседания в стране...   \n",
       "6           ПЛАТОНОВ В.М.  Со стороны Москвы все необходимое было сделано...   \n",
       "7           ПЛАТОНОВ В.М.  Я прошу вас почтить память погибших минутой мо...   \n",
       "8           ПЛАТОНОВ В.М.               Спасибо, присаживайтесь, пожалуйста.   \n",
       "9           ПЛАТОНОВ В.М.  Уважаемые коллеги,  будут ли возражения по  ра...   \n",
       "10          ПЛАТОНОВ В.М.                                    Возражений нет.   \n",
       "11          ПЛАТОНОВ В.М.                       Мы рассматриваем вопрос № 1:   \n",
       "12          ПЛАТОНОВ В.М.  \"Проект постановления Московской городской Дум...   \n",
       "13          ПЛАТОНОВ В.М.  Слово для доклада предоставляется коллеге Мете...   \n",
       "14          ПЛАТОНОВ В.М.  Андрей Николаевич, пожалуйста, в Вашем распоря...   \n",
       "15        МЕТЕЛЬСКИЙ А.Н.  Уважаемые коллеги, вашему вниманию предлагаетс...   \n",
       "16        МЕТЕЛЬСКИЙ А.Н.  Напомню, что в соответствии со статьей 35 Регл...   \n",
       "17        МЕТЕЛЬСКИЙ А.Н.  \\tПроект постановления внесен комиссией по орг...   \n",
       "18        МЕТЕЛЬСКИЙ А.Н.  \\tСтруктура плана традиционна, поэтому я прошу...   \n",
       "19          ПЛАТОНОВ В.М.  Уважаемые коллеги, режим конференции, вопросы ...   \n",
       "20          ПЛАТОНОВ В.М.                                      Вопросов нет.   \n",
       "21          ПЛАТОНОВ В.М.                        Присаживайтесь, пожалуйста.   \n",
       "22          ПЛАТОНОВ В.М.     Запись на выступления. Желающих выступить нет.   \n",
       "23          ПЛАТОНОВ В.М.   Заключительное слово предоставляется докладчику.   \n",
       "24        МЕТЕЛЬСКИЙ А.Н.  Уважаемые коллеги, в соответствии с 61-й стать...   \n",
       "25        МЕТЕЛЬСКИЙ А.Н.  Но к изменениям имеется дополнение редактора: ...   \n",
       "26        МЕТЕЛЬСКИЙ А.Н.  Проект внесен фракцией \"ЕДИНАЯ РОССИЯ\". Профил...   \n",
       "27        МЕТЕЛЬСКИЙ А.Н.          Прошу поддержать с изменениями редактора.   \n",
       "28        МЕТЕЛЬСКИЙ А.Н.                                           Спасибо.   \n",
       "29          ПЛАТОНОВ В.М.  Уважаемые коллеги, есть ли желающие выступить ...   \n",
       "...                   ...                                                ...   \n",
       "122153      ПЛАТОНОВ В.М.                          ВОЗДЕРЖАЛИСЬ       –    0   \n",
       "122154      ПЛАТОНОВ В.М.  Решение о принятии закона города Москвы оформл...   \n",
       "122155      ПЛАТОНОВ В.М.  Результаты поименного голосования № 3 по вопро...   \n",
       "122156      ПЛАТОНОВ В.М.             ЗА                               –  30   \n",
       "122157      ПЛАТОНОВ В.М.                   ПРОТИВ                    –    0   \n",
       "122158      ПЛАТОНОВ В.М.                            ВОЗДЕРЖАЛИСЬ     –    0   \n",
       "122159      ПЛАТОНОВ В.М.  Принято постановление Московской городской Дум...   \n",
       "122160      ПЛАТОНОВ В.М.  Результаты поименного голосования № 4 по вопро...   \n",
       "122161      ПЛАТОНОВ В.М.                                     ЗА\\t\\t\\t\\t– 30   \n",
       "122162      ПЛАТОНОВ В.М.                                  ПРОТИВ\\t\\t\\t–   0   \n",
       "122163      ПЛАТОНОВ В.М.                                ВОЗДЕРЖАЛИСЬ\\t–   0   \n",
       "122164      ПЛАТОНОВ В.М.  Принято постановление Московской городской Дум...   \n",
       "122165      ПЛАТОНОВ В.М.  Так, депутат Петров. Анатолий Валентинович, у ...   \n",
       "122166        ПЕТРОВ А.В.  \\tПрошу принять протокольное решение о поручен...   \n",
       "122167      ПЛАТОНОВ В.М.  \\tКоллеги, нет возражений? Возражений нет. Про...   \n",
       "122168        ПЕТРОВ А.В.                                         \\tСпасибо.   \n",
       "122169      ПЛАТОНОВ В.М.  \\tКоллеги, есть ли еще объявления, замечания, ...   \n",
       "122170      ПЛАТОНОВ В.М.  \\tУважаемые коллеги, 10 часов 30 минут. Я закр...   \n",
       "122171      ПЛАТОНОВ В.М.              Начальник Организационного управления   \n",
       "122172      ПЛАТОНОВ В.М.  Аппарата Московской городской Думы\\t\\t\\t   Р.И...   \n",
       "122173  ПРЕДСЕДАТЕЛЬ ДУМЫ  Уважаемые коллеги, сегодня среда, 24 июня 2015...   \n",
       "122174  ПРЕДСЕДАТЕЛЬ ДУМЫ                       Я открываю заседание № 1457.   \n",
       "122175  ПРЕДСЕДАТЕЛЬ ДУМЫ  Не будет ли возражений по рассмотрению вопроса...   \n",
       "122176  ПРЕДСЕДАТЕЛЬ ДУМЫ  \"Проект постановления Московской городской Дум...   \n",
       "122177  ПРЕДСЕДАТЕЛЬ ДУМЫ                           Спасибо, возражений нет.   \n",
       "122178  ПРЕДСЕДАТЕЛЬ ДУМЫ  Слово для доклада предоставляется редактору пр...   \n",
       "122179  ПРЕДСЕДАТЕЛЬ ДУМЫ                     Андрей Николаевич, пожалуйста.   \n",
       "122180    МЕТЕЛЬСКИЙ А.Н.  Уважаемые коллеги, вашему вниманию предлагаетс...   \n",
       "122181    МЕТЕЛЬСКИЙ А.Н.  Данное постановление внесено комиссией по орга...   \n",
       "122182    МЕТЕЛЬСКИЙ А.Н.                                           Спасибо.   \n",
       "\n",
       "               text_path                                 wav_path  \\\n",
       "0       mosduma_11_6.rtf  wav_folder/merged_wavs/mosduma_11_6.wav   \n",
       "1       mosduma_11_6.rtf  wav_folder/merged_wavs/mosduma_11_6.wav   \n",
       "2       mosduma_11_6.rtf  wav_folder/merged_wavs/mosduma_11_6.wav   \n",
       "3       mosduma_11_6.rtf  wav_folder/merged_wavs/mosduma_11_6.wav   \n",
       "4       mosduma_11_6.rtf  wav_folder/merged_wavs/mosduma_11_6.wav   \n",
       "5       mosduma_11_6.rtf  wav_folder/merged_wavs/mosduma_11_6.wav   \n",
       "6       mosduma_11_6.rtf  wav_folder/merged_wavs/mosduma_11_6.wav   \n",
       "7       mosduma_11_6.rtf  wav_folder/merged_wavs/mosduma_11_6.wav   \n",
       "8       mosduma_11_6.rtf  wav_folder/merged_wavs/mosduma_11_6.wav   \n",
       "9       mosduma_11_6.rtf  wav_folder/merged_wavs/mosduma_11_6.wav   \n",
       "10      mosduma_11_6.rtf  wav_folder/merged_wavs/mosduma_11_6.wav   \n",
       "11      mosduma_11_6.rtf  wav_folder/merged_wavs/mosduma_11_6.wav   \n",
       "12      mosduma_11_6.rtf  wav_folder/merged_wavs/mosduma_11_6.wav   \n",
       "13      mosduma_11_6.rtf  wav_folder/merged_wavs/mosduma_11_6.wav   \n",
       "14      mosduma_11_6.rtf  wav_folder/merged_wavs/mosduma_11_6.wav   \n",
       "15      mosduma_11_6.rtf  wav_folder/merged_wavs/mosduma_11_6.wav   \n",
       "16      mosduma_11_6.rtf  wav_folder/merged_wavs/mosduma_11_6.wav   \n",
       "17      mosduma_11_6.rtf  wav_folder/merged_wavs/mosduma_11_6.wav   \n",
       "18      mosduma_11_6.rtf  wav_folder/merged_wavs/mosduma_11_6.wav   \n",
       "19      mosduma_11_6.rtf  wav_folder/merged_wavs/mosduma_11_6.wav   \n",
       "20      mosduma_11_6.rtf  wav_folder/merged_wavs/mosduma_11_6.wav   \n",
       "21      mosduma_11_6.rtf  wav_folder/merged_wavs/mosduma_11_6.wav   \n",
       "22      mosduma_11_6.rtf  wav_folder/merged_wavs/mosduma_11_6.wav   \n",
       "23      mosduma_11_6.rtf  wav_folder/merged_wavs/mosduma_11_6.wav   \n",
       "24      mosduma_11_6.rtf  wav_folder/merged_wavs/mosduma_11_6.wav   \n",
       "25      mosduma_11_6.rtf  wav_folder/merged_wavs/mosduma_11_6.wav   \n",
       "26      mosduma_11_6.rtf  wav_folder/merged_wavs/mosduma_11_6.wav   \n",
       "27      mosduma_11_6.rtf  wav_folder/merged_wavs/mosduma_11_6.wav   \n",
       "28      mosduma_11_6.rtf  wav_folder/merged_wavs/mosduma_11_6.wav   \n",
       "29      mosduma_11_6.rtf  wav_folder/merged_wavs/mosduma_11_6.wav   \n",
       "...                  ...                                      ...   \n",
       "122153  mosduma_10_7.rtf  wav_folder/merged_wavs/mosduma_10_7.wav   \n",
       "122154  mosduma_10_7.rtf  wav_folder/merged_wavs/mosduma_10_7.wav   \n",
       "122155  mosduma_10_7.rtf  wav_folder/merged_wavs/mosduma_10_7.wav   \n",
       "122156  mosduma_10_7.rtf  wav_folder/merged_wavs/mosduma_10_7.wav   \n",
       "122157  mosduma_10_7.rtf  wav_folder/merged_wavs/mosduma_10_7.wav   \n",
       "122158  mosduma_10_7.rtf  wav_folder/merged_wavs/mosduma_10_7.wav   \n",
       "122159  mosduma_10_7.rtf  wav_folder/merged_wavs/mosduma_10_7.wav   \n",
       "122160  mosduma_10_7.rtf  wav_folder/merged_wavs/mosduma_10_7.wav   \n",
       "122161  mosduma_10_7.rtf  wav_folder/merged_wavs/mosduma_10_7.wav   \n",
       "122162  mosduma_10_7.rtf  wav_folder/merged_wavs/mosduma_10_7.wav   \n",
       "122163  mosduma_10_7.rtf  wav_folder/merged_wavs/mosduma_10_7.wav   \n",
       "122164  mosduma_10_7.rtf  wav_folder/merged_wavs/mosduma_10_7.wav   \n",
       "122165  mosduma_10_7.rtf  wav_folder/merged_wavs/mosduma_10_7.wav   \n",
       "122166  mosduma_10_7.rtf  wav_folder/merged_wavs/mosduma_10_7.wav   \n",
       "122167  mosduma_10_7.rtf  wav_folder/merged_wavs/mosduma_10_7.wav   \n",
       "122168  mosduma_10_7.rtf  wav_folder/merged_wavs/mosduma_10_7.wav   \n",
       "122169  mosduma_10_7.rtf  wav_folder/merged_wavs/mosduma_10_7.wav   \n",
       "122170  mosduma_10_7.rtf  wav_folder/merged_wavs/mosduma_10_7.wav   \n",
       "122171  mosduma_10_7.rtf  wav_folder/merged_wavs/mosduma_10_7.wav   \n",
       "122172  mosduma_10_7.rtf  wav_folder/merged_wavs/mosduma_10_7.wav   \n",
       "122173   mosduma_7_5.rtf   wav_folder/merged_wavs/mosduma_7_5.wav   \n",
       "122174   mosduma_7_5.rtf   wav_folder/merged_wavs/mosduma_7_5.wav   \n",
       "122175   mosduma_7_5.rtf   wav_folder/merged_wavs/mosduma_7_5.wav   \n",
       "122176   mosduma_7_5.rtf   wav_folder/merged_wavs/mosduma_7_5.wav   \n",
       "122177   mosduma_7_5.rtf   wav_folder/merged_wavs/mosduma_7_5.wav   \n",
       "122178   mosduma_7_5.rtf   wav_folder/merged_wavs/mosduma_7_5.wav   \n",
       "122179   mosduma_7_5.rtf   wav_folder/merged_wavs/mosduma_7_5.wav   \n",
       "122180   mosduma_7_5.rtf   wav_folder/merged_wavs/mosduma_7_5.wav   \n",
       "122181   mosduma_7_5.rtf   wav_folder/merged_wavs/mosduma_7_5.wav   \n",
       "122182   mosduma_7_5.rtf   wav_folder/merged_wavs/mosduma_7_5.wav   \n",
       "\n",
       "                                               normalized  \n",
       "0       уважаемые коллеги десять часов ровно сегодня с...  \n",
       "1       я открываю утреннее тысяча четыреста одиннадца...  \n",
       "2         начинается оно с исполнения гимна города москвы  \n",
       "3                                                 спасибо  \n",
       "4       уважаемые коллеги я прошу еще минуту вашего вн...  \n",
       "5       с момента нашего последнего заседания в стране...  \n",
       "6       со стороны москвы все необходимое было сделано...  \n",
       "7       я прошу вас почтить память погибших минутой мо...  \n",
       "8                       спасибо присаживайтесь пожалуйста  \n",
       "9       уважаемые коллеги будут ли возражения по рассм...  \n",
       "10                                         возражений нет  \n",
       "11                     мы рассматриваем вопрос номер один  \n",
       "12      проект постановления московской городской думы...  \n",
       "13      слово для доклада предоставляется коллеге мете...  \n",
       "14      андрей николаевич пожалуйста в вашем распоряже...  \n",
       "15      уважаемые коллеги вашему вниманию предлагается...  \n",
       "16      напомню что в соответствии со статьей тридцать...  \n",
       "17      проект постановления внесен комиссией по орган...  \n",
       "18      структура плана традиционна поэтому я прошу по...  \n",
       "19      уважаемые коллеги режим конференции вопросы к ...  \n",
       "20                                           вопросов нет  \n",
       "21                              присаживайтесь пожалуйста  \n",
       "22           запись на выступления желающих выступить нет  \n",
       "23        заключительное слово предоставляется докладчику  \n",
       "24      уважаемые коллеги в соответствии с шестьдесят ...  \n",
       "25      но к изменениям имеется дополнение редактора п...  \n",
       "26      проект внесен фракцией единая россия профильна...  \n",
       "27               прошу поддержать с изменениями редактора  \n",
       "28                                                спасибо  \n",
       "29      уважаемые коллеги есть ли желающие выступить п...  \n",
       "...                                                   ...  \n",
       "122153                                  воздержались ноль  \n",
       "122154  решение о принятии закона города москвы оформл...  \n",
       "122155  результаты поименного голосования номер три по...  \n",
       "122156                                        за тридцать  \n",
       "122157                                        против ноль  \n",
       "122158                                  воздержались ноль  \n",
       "122159  принято постановление московской городской дум...  \n",
       "122160  результаты поименного голосования номер четыре...  \n",
       "122161                                        за тридцать  \n",
       "122162                                        против ноль  \n",
       "122163                                  воздержались ноль  \n",
       "122164  принято постановление московской городской дум...  \n",
       "122165  так депутат петров анатолий валентинович у вас...  \n",
       "122166  прошу принять протокольное решение о поручении...  \n",
       "122167  коллеги нет возражений возражений нет протокол...  \n",
       "122168                                            спасибо  \n",
       "122169  коллеги есть ли еще объявления замечания предл...  \n",
       "122170  уважаемые коллеги десять часов тридцать минут ...  \n",
       "122171              начальник организационного управления  \n",
       "122172   аппарата московской городской думы р и князятова  \n",
       "122173  уважаемые коллеги сегодня среда двадцать четвё...  \n",
       "122174  я открываю заседание номер тысяча четыреста пя...  \n",
       "122175  не будет ли возражений по рассмотрению вопроса...  \n",
       "122176  проект постановления московской городской думы...  \n",
       "122177                             спасибо возражений нет  \n",
       "122178  слово для доклада предоставляется редактору пр...  \n",
       "122179                       андрей николаевич пожалуйста  \n",
       "122180  уважаемые коллеги вашему вниманию предлагается...  \n",
       "122181  данное постановление внесено комиссией по орга...  \n",
       "122182                                            спасибо  \n",
       "\n",
       "[122183 rows x 5 columns]"
      ]
     },
     "execution_count": 129,
     "metadata": {},
     "output_type": "execute_result"
    }
   ],
   "source": [
    "pd.read_feather('text_wav.feather')"
   ]
  }
 ],
 "metadata": {
  "kernelspec": {
   "display_name": "Python 3",
   "language": "python",
   "name": "python3"
  },
  "language_info": {
   "codemirror_mode": {
    "name": "ipython",
    "version": 3
   },
   "file_extension": ".py",
   "mimetype": "text/x-python",
   "name": "python",
   "nbconvert_exporter": "python",
   "pygments_lexer": "ipython3",
   "version": "3.7.3"
  },
  "toc": {
   "base_numbering": 1,
   "nav_menu": {},
   "number_sections": true,
   "sideBar": true,
   "skip_h1_title": false,
   "title_cell": "Table of Contents",
   "title_sidebar": "Contents",
   "toc_cell": false,
   "toc_position": {},
   "toc_section_display": true,
   "toc_window_display": false
  }
 },
 "nbformat": 4,
 "nbformat_minor": 2
}
